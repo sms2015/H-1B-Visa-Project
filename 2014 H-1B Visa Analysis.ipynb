{
 "cells": [
  {
   "cell_type": "markdown",
   "metadata": {},
   "source": [
    "## Data Science Challenge, H-1b Visas"
   ]
  },
  {
   "cell_type": "markdown",
   "metadata": {},
   "source": [
    "H-1B visa application data \n",
    "https://app.enigma.io/table/us.gov.dol.oflc.h1b.2014\n",
    " \n",
    "### Section 1"
   ]
  },
  {
   "cell_type": "code",
   "execution_count": 30,
   "metadata": {
    "collapsed": true
   },
   "outputs": [],
   "source": [
    "%matplotlib inline"
   ]
  },
  {
   "cell_type": "code",
   "execution_count": 31,
   "metadata": {
    "collapsed": true
   },
   "outputs": [],
   "source": [
    "import pandas as pd\n",
    "import numpy as np\n",
    "import pylab \n",
    "import scipy.stats as stats\n",
    "import matplotlib.pyplot as plt\n",
    "from collections import Counter\n",
    "from sklearn.linear_model import LogisticRegression\n",
    "from patsy import dmatrices\n",
    "import statsmodels.api as sm"
   ]
  },
  {
   "cell_type": "code",
   "execution_count": 2,
   "metadata": {
    "collapsed": true
   },
   "outputs": [],
   "source": [
    "#open and read the file into a pandas data frame\n",
    "filename = \"C:/Users/Stacey/Downloads/enigma-us.gov.dol.oflc.h1b.2014-56e1326ac5eb020a9c4727d1eb8d96e6.csv\"\n",
    "df = pd.read_csv(filename)"
   ]
  },
  {
   "cell_type": "code",
   "execution_count": 5,
   "metadata": {
    "collapsed": false
   },
   "outputs": [
    {
     "name": "stdout",
     "output_type": "stream",
     "text": [
      "519504\n"
     ]
    },
    {
     "data": {
      "text/plain": [
       "['lca_case_number',\n",
       " 'status',\n",
       " 'lca_case_submit',\n",
       " 'decision_date',\n",
       " 'visa_class',\n",
       " 'lca_case_employment_start_date',\n",
       " 'lca_case_employment_end_date',\n",
       " 'lca_case_employer_name',\n",
       " 'lca_case_employer_address',\n",
       " 'lca_case_employer_city',\n",
       " 'lca_case_employer_state',\n",
       " 'lca_case_employer_postal_code',\n",
       " 'lca_case_soc_code',\n",
       " 'lca_case_soc_name',\n",
       " 'lca_case_job_title',\n",
       " 'lca_case_wage_rate_from',\n",
       " 'lca_case_wage_rate_to',\n",
       " 'lca_case_wage_rate_unit',\n",
       " 'full_time_pos',\n",
       " 'total_workers',\n",
       " 'lca_case_workloc1_city',\n",
       " 'lca_case_workloc1_state',\n",
       " 'pw_1',\n",
       " 'pw_unit_1',\n",
       " 'pw_source_1',\n",
       " 'other_wage_source_1',\n",
       " 'yr_source_pub_1',\n",
       " 'lca_case_workloc2_city',\n",
       " 'lca_case_workloc2_state',\n",
       " 'pw_2',\n",
       " 'pw_unit_2',\n",
       " 'pw_source_2',\n",
       " 'other_wage_source_2',\n",
       " 'yr_source_pub_2',\n",
       " 'lca_case_naics_code',\n",
       " 'serialid']"
      ]
     },
     "execution_count": 5,
     "metadata": {},
     "output_type": "execute_result"
    }
   ],
   "source": [
    "#check that all rows were read in\n",
    "print len(df)\n",
    "#view column headers\n",
    "list(df)"
   ]
  },
  {
   "cell_type": "markdown",
   "metadata": {},
   "source": [
    "Data Understanding and notes:\n",
    "\n",
    "* Visa Class: At some point will need to check that Visa Class is always H1-B or only return results for those that are Is the visa class always H1-B?\n",
    "\n",
    "* City/State: there is location information for the employer as well as up to two job locations for each application - will need to check both job locations to see if they are in NYC\n",
    "\n",
    "* Total Workers: there may be multiple workers attached to an application - this will have to added to determine number of visas per company, it's not just one per application\n",
    "\n",
    "* Wage rates can be in several different units, will have to normalize wage rates to annual, or only include annual if these are the majority"
   ]
  },
  {
   "cell_type": "code",
   "execution_count": 8,
   "metadata": {
    "collapsed": false
   },
   "outputs": [
    {
     "data": {
      "text/plain": [
       "{'E-3 Australian', 'H-1B', 'H-1B1 Chile', 'H-1B1 Singapore'}"
      ]
     },
     "execution_count": 8,
     "metadata": {},
     "output_type": "execute_result"
    }
   ],
   "source": [
    "#look at the visa classes in the dataset\n",
    "set(df['visa_class'].tolist())"
   ]
  },
  {
   "cell_type": "markdown",
   "metadata": {},
   "source": [
    "There are three types of H-1B visas and and E-3 Australian, which is a special type of visa, it's not technically an H-1B but is similar enough that we'll leave it in the dataset\n"
   ]
  },
  {
   "cell_type": "markdown",
   "metadata": {},
   "source": [
    "#### Section 1, Question 1\n",
    "Which companies applied for the largest number of H-1B visas where the job opening was located in NYC? Please describe any issues you may encounter summarizing the data by employer name."
   ]
  },
  {
   "cell_type": "markdown",
   "metadata": {},
   "source": [
    "Find all jobs where the job opening locations was in 'NYC'\n",
    "\n",
    "This dataset has two fields for job opening location city and state\n",
    "'lca_case_workloc1_city', 'lca_case_workloc1_state'\n",
    "and \n",
    "'lca_case_workloc2_city', 'lca_case_workloc2_state'\n",
    "\n",
    "This analysis will consider both locations, so if either job location 1 or job location 2 is in NYC these will be counted"
   ]
  },
  {
   "cell_type": "code",
   "execution_count": 11,
   "metadata": {
    "collapsed": false
   },
   "outputs": [
    {
     "data": {
      "text/plain": [
       "{'IN', 'MN', 'NC', 'ND', 'NE', 'NH', 'NJ', 'NM', 'NV', 'NY', 'TN'}"
      ]
     },
     "execution_count": 11,
     "metadata": {},
     "output_type": "execute_result"
    }
   ],
   "source": [
    "#check that the state names are normalized, check all states that \n",
    "#contain an 'N'\n",
    "dfStateNY = df[ (df['lca_case_workloc1_state'].str.lower().str.contains('n') == True )]\n",
    "set(dfStateNY['lca_case_workloc1_state'].tolist())"
   ]
  },
  {
   "cell_type": "markdown",
   "metadata": {},
   "source": [
    "State names appear to be normalized"
   ]
  },
  {
   "cell_type": "code",
   "execution_count": 13,
   "metadata": {
    "collapsed": false
   },
   "outputs": [
    {
     "data": {
      "text/plain": [
       "{'#35620 OZONE PARK NY MSA',\n",
       " '* 6. POSTAL CODE * PREVAIL',\n",
       " '1 COURT SQUARE',\n",
       " '110 WEST FAYETTE STREET',\n",
       " '13 W.100TH STREET, APT. 4B',\n",
       " '132 HARRISON PLACE',\n",
       " '137 VARICK STREET, 2ND FLOOR',\n",
       " '13TH FLOOR',\n",
       " '160 CONVENT AVENUE',\n",
       " '160 FORT WASHINGTON AVENUE',\n",
       " '227 EAST 56TH STREET',\n",
       " '325 HUDSON STREET, 9TH FLOOR',\n",
       " '348 LAKE ROAD',\n",
       " '43-34 32ND PLACE',\n",
       " '5 TIMES SQUARE',\n",
       " '55 WATER STREET',\n",
       " '630 WEST 168TH STREET',\n",
       " '650 WEST 168TH STREET',\n",
       " '6TH FLOOR',\n",
       " '6TH FLOOR, ROOM 6027W',\n",
       " '701 WEST 168TH STREET',\n",
       " '7980 TURIN RD., BLDG. 1',\n",
       " '7TH FLOOR',\n",
       " 'ADAMS CENTER',\n",
       " 'AGRYLE',\n",
       " 'AIRMONT',\n",
       " 'ALBANY',\n",
       " 'ALBANY NY 12237',\n",
       " 'ALBERTSON',\n",
       " 'ALBION',\n",
       " 'ALDEN',\n",
       " 'ALEXANDRIA BAY',\n",
       " 'ALFRED',\n",
       " 'ALTAMONT',\n",
       " 'AMHERST',\n",
       " 'AMITYVILLE',\n",
       " 'AMSTERDAM',\n",
       " 'ANGOLA',\n",
       " 'ANNANDALE',\n",
       " 'ANNANDALE ON HUDSON',\n",
       " 'ANNANDALE-ON-HUDSON',\n",
       " 'ARDSLEY',\n",
       " 'ARGYLE',\n",
       " 'ARMONK',\n",
       " 'ARMONK,',\n",
       " 'ARVERNE',\n",
       " 'ASTORIA',\n",
       " 'ATLANTA',\n",
       " 'AUBURN',\n",
       " 'AUBURNDALE',\n",
       " 'AURORA',\n",
       " 'AUSTIN',\n",
       " 'BABYLON',\n",
       " 'BALDWIN',\n",
       " 'BALITMORE',\n",
       " 'BALLSTON LAKE',\n",
       " 'BALLSTON SPA',\n",
       " 'BARDONIA',\n",
       " 'BATAVIA',\n",
       " 'BATH',\n",
       " 'BAY SHORE',\n",
       " 'BAYSHORE',\n",
       " 'BAYSIDE',\n",
       " 'BEACON',\n",
       " 'BEDFORD HILLS',\n",
       " 'BEDMINSTER',\n",
       " 'BELLEROSE',\n",
       " 'BELLEVUE',\n",
       " 'BELLPORT',\n",
       " 'BELLROSE',\n",
       " 'BERGEN',\n",
       " 'BETHPAGE',\n",
       " 'BINGHAMTON',\n",
       " 'BINGHMTON',\n",
       " 'BLAUVELT',\n",
       " 'BLOOMFIELD',\n",
       " 'BOHEMIA',\n",
       " 'BOHEMIA,',\n",
       " 'BOISE',\n",
       " 'BOSTON',\n",
       " 'BOWLING GREEN',\n",
       " 'BRENTWOOD',\n",
       " 'BREWSTER',\n",
       " 'BRIARCLIFF MANOR',\n",
       " 'BRIARWOOD',\n",
       " 'BRIDGEHAMPTON',\n",
       " 'BRIDGEPORT / NEW YORK',\n",
       " 'BRIGHTSWATERS',\n",
       " 'BROADWAY',\n",
       " 'BROCKPORT',\n",
       " 'BRONX',\n",
       " 'BRONX, NEW YORK',\n",
       " 'BRONX,NEW YORK',\n",
       " 'BRONX,NY',\n",
       " 'BRONX.NEW YORK',\n",
       " 'BRONXVILLE',\n",
       " 'BROOKHAVEN',\n",
       " 'BROOKLN',\n",
       " 'BROOKLY',\n",
       " 'BROOKLYN',\n",
       " 'BROOKLYN,',\n",
       " 'BROOKVILLE',\n",
       " 'BROOKYLN',\n",
       " 'BROOKYN',\n",
       " 'BUFFALO',\n",
       " 'BUFFALO,',\n",
       " 'CALVERTON',\n",
       " 'CAMBRIA',\n",
       " 'CAMBRIA HEIGHTS',\n",
       " 'CANADAIGUA',\n",
       " 'CANANDAIGUA',\n",
       " 'CANANDIUAGA',\n",
       " 'CANTON',\n",
       " 'CARLE PLACE',\n",
       " 'CARLE PLACE,',\n",
       " 'CARMEL',\n",
       " 'CARTHAGE',\n",
       " 'CASSADAGA',\n",
       " 'CASTLETON-ON-HUDSON',\n",
       " 'CATSKILL',\n",
       " 'CAZENOVIA',\n",
       " 'CEDARHURST',\n",
       " 'CENTER MORICHES',\n",
       " 'CENTEREACH',\n",
       " 'CENTRAL ISLIP',\n",
       " 'CHAMPLAIN',\n",
       " 'CHAPPAQUA',\n",
       " 'CHARLOTTE',\n",
       " 'CHEEKTOWAGA',\n",
       " 'CHEEKTOWAGA,',\n",
       " 'CHELSEA',\n",
       " 'CHESTER',\n",
       " 'CHESTNUT RIDGE',\n",
       " 'CHICAGO',\n",
       " 'CHITTENANGO',\n",
       " 'CITY OF NEW YORK',\n",
       " 'CLARENCE',\n",
       " 'CLEARWATER',\n",
       " 'CLIFTON PARK',\n",
       " 'CLIFTON SPRINGS',\n",
       " 'CLINTON',\n",
       " 'CLINTONDALE',\n",
       " 'COBLESKILL',\n",
       " 'COLD SPRING HARBOR',\n",
       " 'COLLEGE POINT',\n",
       " 'COLONIE',\n",
       " 'COMMACK',\n",
       " 'COMMACK. NY',\n",
       " 'CONGERS',\n",
       " 'COOPERSTOWN',\n",
       " 'COPIAGUE',\n",
       " 'CORAM',\n",
       " 'COREM',\n",
       " 'CORFU',\n",
       " 'CORNING',\n",
       " 'CORNWALL',\n",
       " 'CORONA',\n",
       " 'CORTLAND',\n",
       " 'CORTLANDT MANOR',\n",
       " 'CRANFORD',\n",
       " 'CROTON-ON-HUDSON',\n",
       " 'CUBA',\n",
       " 'CULVER CITY',\n",
       " 'DANNEMORA',\n",
       " 'DANSVILLE',\n",
       " 'DEER PARK',\n",
       " 'DEER PATH',\n",
       " 'DEERPARK',\n",
       " 'DELHI',\n",
       " 'DEPEW',\n",
       " 'DEWITT',\n",
       " 'DIX HILLS',\n",
       " 'DOBBS FERRY',\n",
       " 'DOWNTOWN BROOKLYN',\n",
       " 'DUNDEE',\n",
       " 'DUNKIRK',\n",
       " 'E. SYRACUSE',\n",
       " 'EAST AURORA',\n",
       " 'EAST DURHAM',\n",
       " 'EAST ELMHURST',\n",
       " 'EAST FISHKILL',\n",
       " 'EAST GREENBUSH',\n",
       " 'EAST HAMPTON',\n",
       " 'EAST ISLIP',\n",
       " 'EAST MEADOW',\n",
       " 'EAST MIDDLETOWN',\n",
       " 'EAST MORICHES',\n",
       " 'EAST NORTHPORT',\n",
       " 'EAST NORWICH',\n",
       " 'EAST QUOGUE',\n",
       " 'EAST ROCHESTER',\n",
       " 'EAST ROCKAWAY',\n",
       " 'EAST SETAUKET',\n",
       " 'EAST SYRACUSE',\n",
       " 'EASTCHESTER',\n",
       " 'EDEN',\n",
       " 'EDGEWOOD',\n",
       " 'EDGEWOOD NY',\n",
       " 'ELIZABETHTOWN',\n",
       " 'ELMA',\n",
       " 'ELMHRUST',\n",
       " 'ELMHURST',\n",
       " 'ELMHUSRT',\n",
       " 'ELMIRA',\n",
       " 'ELMONT',\n",
       " 'ELMSFORD',\n",
       " 'EMPIRE STATE PLAZA',\n",
       " 'ENDICOTT',\n",
       " 'ENDWELL',\n",
       " 'FAIRPORT',\n",
       " 'FAR ROCKAWAY',\n",
       " 'FARMINGDALE',\n",
       " 'FAYETTEVILLE',\n",
       " 'FISHKILL',\n",
       " 'FLORAL PARK',\n",
       " 'FLORIDA',\n",
       " 'FLUSHING',\n",
       " 'FLUSHING, NY',\n",
       " 'FOREST HILLS',\n",
       " 'FORREST HILLS',\n",
       " 'FORT EDWARD',\n",
       " 'FRAMINGDALE',\n",
       " 'FRANKLIN SQ',\n",
       " 'FRANKLIN SQUARE',\n",
       " 'FREDONIA',\n",
       " 'FREEPORT',\n",
       " 'FREMONT',\n",
       " 'FRESH MEADOWS',\n",
       " 'FULTON',\n",
       " 'GAINESVILLE',\n",
       " 'GARDEN CITY',\n",
       " 'GARDEN CITY PARK',\n",
       " 'GARNERVILLE',\n",
       " 'GARRISON',\n",
       " 'GASPORT',\n",
       " 'GENESEO',\n",
       " 'GENEVA',\n",
       " 'GETZILLE',\n",
       " 'GETZVILLE',\n",
       " 'GHENT',\n",
       " 'GILBOA',\n",
       " 'GLEAN HEAD',\n",
       " 'GLEN COVE',\n",
       " 'GLEN FALLS',\n",
       " 'GLEN OAKS',\n",
       " 'GLENDALE',\n",
       " 'GLENMONT',\n",
       " 'GLENS FALLS',\n",
       " 'GLOVERSVILLE',\n",
       " 'GOSHEN',\n",
       " 'GOUVERNEUR',\n",
       " 'GOWANDA',\n",
       " 'GRAND ISLAND',\n",
       " 'GRANVILLE',\n",
       " 'GREAT NECK',\n",
       " 'GREAT NECK,',\n",
       " 'GREAT RIVER',\n",
       " 'GREATNECK',\n",
       " 'GREECE',\n",
       " 'GREEN ISLAND',\n",
       " 'GREENE',\n",
       " 'GREENPOINT',\n",
       " 'GREENPORT',\n",
       " 'GREENVALE',\n",
       " 'GROTON',\n",
       " 'GUILDERLAND',\n",
       " 'GUILDERLAND CENTER',\n",
       " 'HAMBURG',\n",
       " 'HAMILTON',\n",
       " 'HAMPTON BAYS',\n",
       " 'HARRIMAN',\n",
       " 'HARRIS',\n",
       " 'HARRISON',\n",
       " 'HARTSDALE',\n",
       " 'HASTINGS ON HUDSON',\n",
       " 'HAUPPAGE',\n",
       " 'HAUPPAGUE',\n",
       " 'HAUPPAUGE',\n",
       " 'HAVESTRAW',\n",
       " 'HAWTHORNE',\n",
       " 'HEMPSTEAD',\n",
       " 'HENRIETTA',\n",
       " 'HICKSVILLE',\n",
       " 'HIGH FALLS',\n",
       " 'HIGHLAND',\n",
       " 'HOLBROOK',\n",
       " 'HOLLIS',\n",
       " 'HOLMES',\n",
       " 'HOLTSVILLE',\n",
       " 'HOMER',\n",
       " 'HONEOYE FALLS',\n",
       " 'HOOSICK FALLS',\n",
       " 'HOPEWELL JCT',\n",
       " 'HOPEWELL JUNCTION',\n",
       " 'HOPEWELL JUNCTION,',\n",
       " 'HORNELL',\n",
       " 'HORSE HEADS',\n",
       " 'HORSEHEADS',\n",
       " 'HOUGHTON',\n",
       " 'HOUSTON',\n",
       " 'HOWARD BEACH',\n",
       " 'HUDSON',\n",
       " 'HUNTINGTON',\n",
       " 'HUNTINGTON STATION',\n",
       " 'HURLEYVILLE',\n",
       " 'HYDE PARK',\n",
       " 'INWOOD',\n",
       " 'IRVING',\n",
       " 'IRVINGTON',\n",
       " 'ISLANDIA',\n",
       " 'ISLIP',\n",
       " 'ISLIP TERRACE',\n",
       " 'ITHACA',\n",
       " 'ITHICA',\n",
       " 'JACKSON HEIGHTS',\n",
       " 'JAMAICA',\n",
       " 'JAMAICA, NY',\n",
       " 'JAMESTOWN',\n",
       " 'JAMESVILLE',\n",
       " 'JAMIACA',\n",
       " 'JERICHO',\n",
       " 'JERSEY CITY',\n",
       " 'JOHNSON CITY',\n",
       " 'KATONAH',\n",
       " 'KENMORE',\n",
       " 'KEW GARDEN',\n",
       " 'KEW GARDENS',\n",
       " 'KINGSTON',\n",
       " 'KIRKWOOD',\n",
       " 'L.I.C.',\n",
       " 'LACKAWANNA',\n",
       " 'LAGRANGEVILLE',\n",
       " 'LAKE CARMEL',\n",
       " 'LAKE KATRINE',\n",
       " 'LAKE PLACID',\n",
       " 'LAKE SUCCESS',\n",
       " 'LAKE VIEW',\n",
       " 'LAKEWOOD',\n",
       " 'LANCASTER',\n",
       " 'LANSING',\n",
       " 'LARCHMONT',\n",
       " 'LAS VEGAS',\n",
       " 'LATHAM',\n",
       " 'LATHAM\\xc3\\xa6',\n",
       " 'LAURELTON',\n",
       " 'LAWRENCE',\n",
       " 'LEVITTOWN',\n",
       " 'LEWISTON',\n",
       " 'LIBERTY',\n",
       " 'LIC',\n",
       " 'LINDENHURST',\n",
       " 'LITTLE FALLS',\n",
       " 'LITTLE NECK',\n",
       " 'LIVERPOOL',\n",
       " 'LIVINGSTON',\n",
       " 'LOCKPORT',\n",
       " 'LOCUST VALLEY',\n",
       " 'LONG BEACH',\n",
       " 'LONG IS CITY',\n",
       " 'LONG ISLAD CITY',\n",
       " 'LONG ISLAND',\n",
       " 'LONG ISLAND CITY',\n",
       " 'LONG ISLAND CITY,',\n",
       " 'LONG ISLAND CITY, QUEENS',\n",
       " 'LONG ISLAND CTY',\n",
       " 'LONG ISLANDY CITY',\n",
       " 'LONGISLAND CITY',\n",
       " 'LOUDONVILLE',\n",
       " 'LYNBROOK',\n",
       " 'LYONS',\n",
       " 'MACEDON',\n",
       " 'MAHOPAC',\n",
       " 'MALONE',\n",
       " 'MALTA',\n",
       " 'MALVERNE',\n",
       " 'MAMARONECK',\n",
       " 'MANHASSET',\n",
       " 'MANHATAN',\n",
       " 'MANHATTAN',\n",
       " 'MANHATTAN, NEW YORK',\n",
       " 'MARCY',\n",
       " 'MARGARETVILLE',\n",
       " 'MASPATH',\n",
       " 'MASPETH',\n",
       " 'MASSAPEQUA',\n",
       " 'MASSENA',\n",
       " 'MATTITUCK',\n",
       " 'MEDFORD',\n",
       " 'MEDIACOM PARK',\n",
       " 'MEDINA',\n",
       " 'MELVILLE',\n",
       " 'MELVILLE,',\n",
       " 'MENANDAS',\n",
       " 'MENANDS',\n",
       " 'MERRICK',\n",
       " 'MERRILL',\n",
       " 'METRO ALBANY',\n",
       " 'METRO JERICHO',\n",
       " 'METRO NEW YORK',\n",
       " 'MEW YORK',\n",
       " 'MIAMI',\n",
       " 'MIDDLE VILLAGE',\n",
       " 'MIDDLEBURGH',\n",
       " 'MIDDLETOWN',\n",
       " 'MIDTOWN MANHATTAN',\n",
       " 'MILLBROOK',\n",
       " 'MILLERTON',\n",
       " 'MINEOLA',\n",
       " 'MONROE',\n",
       " 'MONSEY',\n",
       " 'MONTAUK',\n",
       " 'MONTEBELLO',\n",
       " 'MONTICELLO',\n",
       " 'MORRISVILLE',\n",
       " 'MOUNT KISCO',\n",
       " 'MOUNT SINAI',\n",
       " 'MOUNT VERNON',\n",
       " 'MOUNTAIN VIEW',\n",
       " 'MOUNTAINVILLE',\n",
       " 'MT. KISCO',\n",
       " 'MT. VERNON',\n",
       " 'MT.KISCO',\n",
       " 'NANUET',\n",
       " 'NAPANOCH',\n",
       " 'NASSAU',\n",
       " 'NEW',\n",
       " 'NEW BERLIN',\n",
       " 'NEW CITY',\n",
       " 'NEW HARTFORD',\n",
       " 'NEW HYDE PARK',\n",
       " 'NEW ORK',\n",
       " 'NEW PALTZ',\n",
       " 'NEW ROCHELLE',\n",
       " 'NEW TORK',\n",
       " 'NEW WINDSOR',\n",
       " 'NEW WINDSOW',\n",
       " 'NEW YOK',\n",
       " 'NEW YORK',\n",
       " 'NEW YORK CITY',\n",
       " 'NEW YORK CITY,',\n",
       " 'NEW YORK NY',\n",
       " 'NEW YORK,',\n",
       " 'NEW YORK, 10003',\n",
       " 'NEW YORK, NEW YORK',\n",
       " 'NEW YORK, NY',\n",
       " 'NEW YORK, NY -',\n",
       " 'NEW YORK,NEW YORK',\n",
       " 'NEW YOUR',\n",
       " 'NEW YOURK',\n",
       " 'NEW YROK',\n",
       " 'NEWARK',\n",
       " 'NEWBURGH',\n",
       " 'NEWYORK',\n",
       " 'NEWYORK CITY',\n",
       " 'NIAGARA FALLS',\n",
       " 'NIAGARA UNIVERSITY',\n",
       " 'NISKAYUNA',\n",
       " 'NORTH CREEK',\n",
       " 'NORTH SYRACUSE',\n",
       " 'NORTH TONAWANDA',\n",
       " 'NORTH TONAWANDA,',\n",
       " 'NORTHPORT',\n",
       " 'NORTHUMBERLAND',\n",
       " 'NORWICH',\n",
       " 'NY',\n",
       " 'NYACK',\n",
       " 'NYC',\n",
       " 'OAK HILL',\n",
       " 'OAKDALE',\n",
       " 'OAKLAND',\n",
       " 'OAKLAND GARDEN',\n",
       " 'OAKLAND GARDENS',\n",
       " 'OCEANSIDE',\n",
       " 'OCEANSIDE,',\n",
       " 'OGDENSBURG',\n",
       " 'OLD BETHPAGE',\n",
       " 'OLD BROOKVILLE',\n",
       " 'OLD WESTBURY',\n",
       " 'OLEAN',\n",
       " 'ONEONTA',\n",
       " 'ORANGEBURG',\n",
       " 'ORCHARD PARK',\n",
       " 'ORIENT POINT',\n",
       " 'ORISKANY',\n",
       " 'OSSINING',\n",
       " 'OSWEGO',\n",
       " 'OWEGO',\n",
       " 'OYSTER BAY',\n",
       " 'OZONE PARK',\n",
       " 'PAINTED POST',\n",
       " 'PAINTED POST,',\n",
       " 'PALATINE BRIDGE',\n",
       " 'PALISADAES',\n",
       " 'PALISADES',\n",
       " 'PALMYRA',\n",
       " 'PARSIPPANY',\n",
       " 'PATCHOGUE',\n",
       " 'PAWLING',\n",
       " 'PEARL RIVER',\n",
       " 'PEEKSKILL',\n",
       " 'PELHAM',\n",
       " 'PELHAM MANOR',\n",
       " 'PETERSBURGH',\n",
       " 'PHILADELPHIA',\n",
       " 'PHOENIX',\n",
       " 'PIERMONT',\n",
       " 'PITTSFORD',\n",
       " 'PLAINVIEW',\n",
       " 'PLATTSBURG',\n",
       " 'PLATTSBURGH',\n",
       " 'PLEASANTVILLE',\n",
       " 'PO BOX 299',\n",
       " 'POMONA',\n",
       " 'PORT CHESTER',\n",
       " 'PORT JEFFERSON',\n",
       " 'PORT JERVIS',\n",
       " 'PORT WASHINGTON',\n",
       " 'PORT WASHINGTON,',\n",
       " 'POTSDAM',\n",
       " 'POUGHKEEPSIE',\n",
       " 'PULASKI',\n",
       " 'PURCHASE',\n",
       " 'QUEENS',\n",
       " 'QUEENS VILLAGE',\n",
       " 'QUEENSBURY',\n",
       " 'REGO PARK',\n",
       " 'RENNSELAER',\n",
       " 'RENSSELAE',\n",
       " 'RENSSELAER',\n",
       " 'RENSSELAR',\n",
       " 'RHINEBECK',\n",
       " 'RICHFIELD SPRINGS',\n",
       " 'RICHMOND HILL',\n",
       " 'RICHMONDVILLE',\n",
       " 'RIDGE',\n",
       " 'RIDGEWOOD',\n",
       " 'RIVERDALE',\n",
       " 'RIVERHEAD',\n",
       " 'ROCHDALE VILLAGE',\n",
       " 'ROCHESTER',\n",
       " 'ROCHESTER,',\n",
       " 'ROCHESTER, N.Y.',\n",
       " 'ROCKAWAY',\n",
       " 'ROCKAWAY PARK',\n",
       " 'ROCKVILLE CENTRE',\n",
       " 'ROCKY POINT',\n",
       " 'ROME',\n",
       " 'RONKONKOMA',\n",
       " 'ROOSEVELT',\n",
       " 'ROSEDALE',\n",
       " 'ROSLYN',\n",
       " 'ROSLYN HEIGHTS',\n",
       " 'RYE',\n",
       " 'RYE BROOK',\n",
       " 'SAG HARBOR',\n",
       " 'SAINT JAMES',\n",
       " 'SALEM',\n",
       " 'SALISBURY MILLS',\n",
       " 'SALT POINT',\n",
       " 'SAN FRANCISCO',\n",
       " 'SANBORN',\n",
       " 'SARANAC LAKE',\n",
       " 'SARATOGA SPRINGS',\n",
       " 'SAUGERTIES',\n",
       " 'SAUGERTUES',\n",
       " 'SAYVILLE',\n",
       " 'SCARSDALE',\n",
       " 'SCHENACTADY',\n",
       " 'SCHENECTADY',\n",
       " 'SCHENECTADY\\xc3\\xa6',\n",
       " 'SCOTIA',\n",
       " 'SCOTTSVILLE',\n",
       " 'SEA CLIFF',\n",
       " 'SELDEN',\n",
       " 'SELKIRK',\n",
       " 'SENECA FALLS',\n",
       " 'SHELTER ISLAND',\n",
       " 'SHIRLEY',\n",
       " 'SHRILEY',\n",
       " 'SILVER CREEK',\n",
       " 'SKANEATELES',\n",
       " 'SKANEATELES FALLS',\n",
       " 'SKANEATELSE FALLS',\n",
       " 'SLEEPY HALOW',\n",
       " 'SLEEPY HOLLOW',\n",
       " 'SLEEPY HOLLOW, NEW YORK',\n",
       " 'SLOATSBURG',\n",
       " 'SMITHTOWN',\n",
       " 'SMYRNA',\n",
       " 'SNYDER',\n",
       " 'SODUS',\n",
       " 'SOMERS',\n",
       " 'SOUTH BUFFALO',\n",
       " 'SOUTH HEMPSTEAD',\n",
       " 'SOUTH OZONE PARK',\n",
       " 'SOUTH PLAINFIELD',\n",
       " 'SOUTH RICHMOND HILL',\n",
       " 'SOUTHAMPTON',\n",
       " 'SOUTHOLD',\n",
       " 'SPENCER',\n",
       " 'SPRING VALLEY',\n",
       " 'SPRINGFIELD GARDENS',\n",
       " 'ST. ALBANS',\n",
       " 'ST. JAMES',\n",
       " 'ST. JOHNSVILLE',\n",
       " 'ST.ELMIRA',\n",
       " 'STAATSBURG',\n",
       " 'STATEN ISLAND',\n",
       " 'STONY BROOK',\n",
       " 'STONY POINT',\n",
       " 'SUFFEREN',\n",
       " 'SUFFERN',\n",
       " 'SUITE 1802',\n",
       " 'SUITE 210',\n",
       " 'SUITE 300',\n",
       " 'SUITE 514',\n",
       " 'SUITE 600',\n",
       " 'SUITE 804',\n",
       " 'SUITE 945',\n",
       " 'SUITE NO 1502',\n",
       " 'SUNNYSIDE',\n",
       " 'SYOSSET',\n",
       " 'SYRACUSE',\n",
       " 'SYRACUSE,',\n",
       " 'TAPPAN',\n",
       " 'TARRY TOWN',\n",
       " 'TARRYTOWN',\n",
       " 'TERRYTOWN',\n",
       " 'TEWKSBURY',\n",
       " 'THIRD FLOOR',\n",
       " 'THORNWOOD',\n",
       " 'THROGGS NECK',\n",
       " 'THROGS NECK',\n",
       " 'TICONDEROGA',\n",
       " 'TONAWANDA',\n",
       " 'TONWANDA',\n",
       " 'TROY',\n",
       " 'TUCKAHOE',\n",
       " 'TUXEDO',\n",
       " 'TUXEDO PARK',\n",
       " 'UNION',\n",
       " 'UNION CITY',\n",
       " 'UNIONDALE',\n",
       " 'UNKNOWN',\n",
       " 'UPTON',\n",
       " 'UPTON, NY',\n",
       " 'UTICA',\n",
       " 'VAHALLA',\n",
       " 'VALATIE',\n",
       " 'VALATIE.',\n",
       " 'VALHALLA',\n",
       " 'VALLEY COTTAGE',\n",
       " 'VALLEY STREAM',\n",
       " 'VESTAL',\n",
       " 'VICTOR',\n",
       " 'VOORHEESVILLE',\n",
       " 'WACCABUC',\n",
       " 'WAINSCOTT',\n",
       " 'WALTON',\n",
       " 'WARREN',\n",
       " 'WARRENSBURG',\n",
       " 'WARSAW',\n",
       " 'WARWICK',\n",
       " 'WATEFORD',\n",
       " 'WATERBURY',\n",
       " 'WATERFORD',\n",
       " 'WATERTOWN',\n",
       " 'WATERVLIET',\n",
       " 'WAYLAND',\n",
       " 'WEBSTER',\n",
       " 'WEBSTER,',\n",
       " 'WELLSVILLE',\n",
       " 'WESBURY',\n",
       " 'WEST ALBANY',\n",
       " 'WEST BABYLON',\n",
       " 'WEST CALDWELL',\n",
       " 'WEST DES MOINES',\n",
       " 'WEST HAMPTON BEACH',\n",
       " 'WEST HAVERSTRAW',\n",
       " 'WEST HEMPSTEAD',\n",
       " 'WEST HENRIETTA',\n",
       " 'WEST ISLIP',\n",
       " 'WEST MENANDS',\n",
       " 'WEST NYACK',\n",
       " 'WEST SENECA',\n",
       " 'WESTBURY',\n",
       " 'WESTFIELD',\n",
       " 'WHEATFIELD',\n",
       " 'WHITE PLAINS',\n",
       " 'WHITEPLAINS',\n",
       " 'WHITESBORO',\n",
       " 'WHITESTONE',\n",
       " 'WHITETONE',\n",
       " 'WILLAIMSVILLE',\n",
       " 'WILLAMSVILLE',\n",
       " 'WILLIAMSBURG, BROOKLYN',\n",
       " 'WILLIAMSBURGH',\n",
       " 'WILLIAMSVILLE',\n",
       " 'WILLISTON PARK',\n",
       " 'WILMINGTON',\n",
       " 'WOODBURRY',\n",
       " 'WOODBURY',\n",
       " 'WOODBURY,',\n",
       " 'WOODHAVEN',\n",
       " 'WOODMERE',\n",
       " 'WOODSIDE',\n",
       " 'WURTSBORO',\n",
       " 'YAPHANK',\n",
       " 'YONKERS',\n",
       " 'YORK',\n",
       " 'YORKERS',\n",
       " 'YORKTOWN HEIGHTS'}"
      ]
     },
     "execution_count": 13,
     "metadata": {},
     "output_type": "execute_result"
    }
   ],
   "source": [
    "#Check NY cities\n",
    "citiesNY = df[ df['lca_case_workloc1_state'].str.lower().str.contains('ny') == True ]\\\n",
    "['lca_case_workloc1_city']\n",
    "set(citiesNY)"
   ]
  },
  {
   "cell_type": "markdown",
   "metadata": {},
   "source": [
    "For the purpose of this challenge and in the interest of time, the code here will only identify applications where the job location city 1 or 2 \n",
    "contains \"NYC\" or \"New York City\" specifically.\n",
    "\n",
    "The city names for these fields do not appear to be chosen from a drop down list as there is a lot of variety in the way that cities that are part of NYC are referenced, including \"NYC\", \"New York\",\"Brooklyn\", \"Bronx\", \"Downtown Brooklyn\", \"Manhattan, New York\", etc.  In addition there are misspellings of these names.\n",
    "\n",
    "A more rigorous method would be needed to catch all possible NYC references, in addition to misspellings."
   ]
  },
  {
   "cell_type": "code",
   "execution_count": 15,
   "metadata": {
    "collapsed": true
   },
   "outputs": [],
   "source": [
    "#identify New York City cities\n",
    "nycCities = 'nyc|new york city'\n",
    "#get only cases where city 1 or city 2 is in New York"
   ]
  },
  {
   "cell_type": "code",
   "execution_count": 17,
   "metadata": {
    "collapsed": true
   },
   "outputs": [],
   "source": [
    "#create a function to subset the data to get only data for specific cities\n",
    "def cities(cityNames):\n",
    "    \"\"\"\n",
    "    This function takes the city names and outputs all rows where work location\n",
    "    1 or work location 2 is equal to that city name.\n",
    "    \"\"\"\n",
    "    dfCity = df[ (df['lca_case_workloc1_city'].str.lower().str.contains(cityNames) == True )\\\n",
    "    | (df['lca_case_workloc2_city'].str.lower().str.contains(cityNames)== True) ]\n",
    "    return dfCity\n",
    "\n",
    "dfNyc = cities(nycCities)\n"
   ]
  },
  {
   "cell_type": "code",
   "execution_count": 18,
   "metadata": {
    "collapsed": true
   },
   "outputs": [],
   "source": [
    "#subset the data to just get specific fields\n",
    "def dfSubset(dfCity,field1,field2):\n",
    "    \"\"\"\n",
    "    This function takes the city specific dataframe and two fields and returns a \n",
    "    subset of the dataframe with the specified fields\n",
    "    \"\"\"\n",
    "    dfCitySubset = dfCity[ [field1,field2] ]\n",
    "    return dfCitySubset\n"
   ]
  },
  {
   "cell_type": "code",
   "execution_count": 19,
   "metadata": {
    "collapsed": false
   },
   "outputs": [
    {
     "data": {
      "text/html": [
       "<div>\n",
       "<table border=\"1\" class=\"dataframe\">\n",
       "  <thead>\n",
       "    <tr style=\"text-align: right;\">\n",
       "      <th></th>\n",
       "      <th>lca_case_employer_name</th>\n",
       "      <th>total_workers</th>\n",
       "    </tr>\n",
       "  </thead>\n",
       "  <tbody>\n",
       "    <tr>\n",
       "      <th>71</th>\n",
       "      <td>NUL SYSTEM SERVICES CORPORATION</td>\n",
       "      <td>1.0</td>\n",
       "    </tr>\n",
       "    <tr>\n",
       "      <th>593</th>\n",
       "      <td>SECONDMARKET HOLDINGS, INC.</td>\n",
       "      <td>1.0</td>\n",
       "    </tr>\n",
       "    <tr>\n",
       "      <th>1318</th>\n",
       "      <td>BAIN AND COMPANY, INC.</td>\n",
       "      <td>1.0</td>\n",
       "    </tr>\n",
       "    <tr>\n",
       "      <th>3046</th>\n",
       "      <td>EDWARDS LIFESCIENCES LLC</td>\n",
       "      <td>1.0</td>\n",
       "    </tr>\n",
       "    <tr>\n",
       "      <th>3621</th>\n",
       "      <td>BAIN AND COMPANY, INC.</td>\n",
       "      <td>1.0</td>\n",
       "    </tr>\n",
       "    <tr>\n",
       "      <th>4925</th>\n",
       "      <td>VERINON TECHNOLOGY SOLUTIONS LTD.</td>\n",
       "      <td>1.0</td>\n",
       "    </tr>\n",
       "    <tr>\n",
       "      <th>6914</th>\n",
       "      <td>IMETRIS CORPORATION</td>\n",
       "      <td>1.0</td>\n",
       "    </tr>\n",
       "    <tr>\n",
       "      <th>7295</th>\n",
       "      <td>CBS INTERACTIVE INC.</td>\n",
       "      <td>1.0</td>\n",
       "    </tr>\n",
       "    <tr>\n",
       "      <th>7394</th>\n",
       "      <td>V-SOFT CONSULTING GROUP, INC</td>\n",
       "      <td>1.0</td>\n",
       "    </tr>\n",
       "    <tr>\n",
       "      <th>7614</th>\n",
       "      <td>WOOD MACKENZIE, INC.</td>\n",
       "      <td>1.0</td>\n",
       "    </tr>\n",
       "    <tr>\n",
       "      <th>8082</th>\n",
       "      <td>AT&amp;T SERVICES, INC.</td>\n",
       "      <td>1.0</td>\n",
       "    </tr>\n",
       "    <tr>\n",
       "      <th>8420</th>\n",
       "      <td>MARLABS, INC</td>\n",
       "      <td>1.0</td>\n",
       "    </tr>\n",
       "    <tr>\n",
       "      <th>9186</th>\n",
       "      <td>ETEK IT SERVICES, INC.</td>\n",
       "      <td>1.0</td>\n",
       "    </tr>\n",
       "    <tr>\n",
       "      <th>9235</th>\n",
       "      <td>406 MANAGEMENT LLC</td>\n",
       "      <td>1.0</td>\n",
       "    </tr>\n",
       "    <tr>\n",
       "      <th>10248</th>\n",
       "      <td>FACTSET RESEARCH SYSTEMS, INC.</td>\n",
       "      <td>1.0</td>\n",
       "    </tr>\n",
       "    <tr>\n",
       "      <th>13718</th>\n",
       "      <td>V-SOFT CONSULTING GROUP, INC</td>\n",
       "      <td>1.0</td>\n",
       "    </tr>\n",
       "    <tr>\n",
       "      <th>14871</th>\n",
       "      <td>COMPU-VISION CONSULTING, INC.</td>\n",
       "      <td>1.0</td>\n",
       "    </tr>\n",
       "    <tr>\n",
       "      <th>15485</th>\n",
       "      <td>V-SOFT CONSULTING GROUP, INC</td>\n",
       "      <td>1.0</td>\n",
       "    </tr>\n",
       "    <tr>\n",
       "      <th>15912</th>\n",
       "      <td>EIGHT NEW YORK INC.</td>\n",
       "      <td>1.0</td>\n",
       "    </tr>\n",
       "    <tr>\n",
       "      <th>20799</th>\n",
       "      <td>BONHAMS &amp; BUTTERFIELDS AUCTIONEERS CORPORATION</td>\n",
       "      <td>1.0</td>\n",
       "    </tr>\n",
       "    <tr>\n",
       "      <th>26767</th>\n",
       "      <td>MT LAW LLC</td>\n",
       "      <td>1.0</td>\n",
       "    </tr>\n",
       "    <tr>\n",
       "      <th>27024</th>\n",
       "      <td>NM CREATIVE LLC</td>\n",
       "      <td>1.0</td>\n",
       "    </tr>\n",
       "    <tr>\n",
       "      <th>27198</th>\n",
       "      <td>GROUPON, INC.</td>\n",
       "      <td>1.0</td>\n",
       "    </tr>\n",
       "    <tr>\n",
       "      <th>30094</th>\n",
       "      <td>NM CREATIVE LLC</td>\n",
       "      <td>1.0</td>\n",
       "    </tr>\n",
       "    <tr>\n",
       "      <th>31258</th>\n",
       "      <td>DOMUS DESIGN CENTERS, INC.</td>\n",
       "      <td>1.0</td>\n",
       "    </tr>\n",
       "    <tr>\n",
       "      <th>33085</th>\n",
       "      <td>SAGARSOFT, INC</td>\n",
       "      <td>1.0</td>\n",
       "    </tr>\n",
       "    <tr>\n",
       "      <th>33494</th>\n",
       "      <td>HCL AMERICA, INC.</td>\n",
       "      <td>1.0</td>\n",
       "    </tr>\n",
       "    <tr>\n",
       "      <th>34266</th>\n",
       "      <td>UNIVERSAL SOFTWARE CORPORATION</td>\n",
       "      <td>1.0</td>\n",
       "    </tr>\n",
       "    <tr>\n",
       "      <th>36028</th>\n",
       "      <td>COMPU-VISION CONSULTING, INC.</td>\n",
       "      <td>1.0</td>\n",
       "    </tr>\n",
       "    <tr>\n",
       "      <th>40999</th>\n",
       "      <td>GOLDMAN SACHS SERVICES LLC</td>\n",
       "      <td>1.0</td>\n",
       "    </tr>\n",
       "    <tr>\n",
       "      <th>...</th>\n",
       "      <td>...</td>\n",
       "      <td>...</td>\n",
       "    </tr>\n",
       "    <tr>\n",
       "      <th>514208</th>\n",
       "      <td>BORDERFREE, INC.</td>\n",
       "      <td>1.0</td>\n",
       "    </tr>\n",
       "    <tr>\n",
       "      <th>514367</th>\n",
       "      <td>A+H ARCHITECTURE</td>\n",
       "      <td>1.0</td>\n",
       "    </tr>\n",
       "    <tr>\n",
       "      <th>515160</th>\n",
       "      <td>SUIGEIN LLC</td>\n",
       "      <td>2.0</td>\n",
       "    </tr>\n",
       "    <tr>\n",
       "      <th>515470</th>\n",
       "      <td>LORD SECURITIES CORPORATION</td>\n",
       "      <td>1.0</td>\n",
       "    </tr>\n",
       "    <tr>\n",
       "      <th>515859</th>\n",
       "      <td>RAVEN RECOVERY NUTRACEUTICALS LLC</td>\n",
       "      <td>1.0</td>\n",
       "    </tr>\n",
       "    <tr>\n",
       "      <th>515916</th>\n",
       "      <td>PAUL BARNETT INC</td>\n",
       "      <td>1.0</td>\n",
       "    </tr>\n",
       "    <tr>\n",
       "      <th>515946</th>\n",
       "      <td>DOE FUND, INC.</td>\n",
       "      <td>1.0</td>\n",
       "    </tr>\n",
       "    <tr>\n",
       "      <th>516344</th>\n",
       "      <td>BETTS RECRUITING INC</td>\n",
       "      <td>1.0</td>\n",
       "    </tr>\n",
       "    <tr>\n",
       "      <th>516419</th>\n",
       "      <td>CONVERSANT, INC.</td>\n",
       "      <td>1.0</td>\n",
       "    </tr>\n",
       "    <tr>\n",
       "      <th>516444</th>\n",
       "      <td>BETTS RECRUITING INC</td>\n",
       "      <td>1.0</td>\n",
       "    </tr>\n",
       "    <tr>\n",
       "      <th>516798</th>\n",
       "      <td>TWITTER, INC.</td>\n",
       "      <td>1.0</td>\n",
       "    </tr>\n",
       "    <tr>\n",
       "      <th>516835</th>\n",
       "      <td>MOTT STREET OPTICAL</td>\n",
       "      <td>1.0</td>\n",
       "    </tr>\n",
       "    <tr>\n",
       "      <th>516953</th>\n",
       "      <td>CLEARSTREAM.TV, INC.</td>\n",
       "      <td>1.0</td>\n",
       "    </tr>\n",
       "    <tr>\n",
       "      <th>517016</th>\n",
       "      <td>CLEARSTREAM.TV, INC.</td>\n",
       "      <td>1.0</td>\n",
       "    </tr>\n",
       "    <tr>\n",
       "      <th>517140</th>\n",
       "      <td>CLEARSTREAM.TV, INC.</td>\n",
       "      <td>1.0</td>\n",
       "    </tr>\n",
       "    <tr>\n",
       "      <th>517402</th>\n",
       "      <td>CROSSBOUNDARY LLC</td>\n",
       "      <td>1.0</td>\n",
       "    </tr>\n",
       "    <tr>\n",
       "      <th>517574</th>\n",
       "      <td>CARBON TRADE EXCHANGE INC.</td>\n",
       "      <td>1.0</td>\n",
       "    </tr>\n",
       "    <tr>\n",
       "      <th>517791</th>\n",
       "      <td>CBRE, INC.</td>\n",
       "      <td>1.0</td>\n",
       "    </tr>\n",
       "    <tr>\n",
       "      <th>517867</th>\n",
       "      <td>CARBON TRADE EXCHANGE INC.</td>\n",
       "      <td>1.0</td>\n",
       "    </tr>\n",
       "    <tr>\n",
       "      <th>517991</th>\n",
       "      <td>THE SOUTH AFRICAN INC</td>\n",
       "      <td>1.0</td>\n",
       "    </tr>\n",
       "    <tr>\n",
       "      <th>518297</th>\n",
       "      <td>CENTRE FOR KHMER STUDIES</td>\n",
       "      <td>1.0</td>\n",
       "    </tr>\n",
       "    <tr>\n",
       "      <th>518451</th>\n",
       "      <td>ASSOCIATED FOREIGN EXCHANGE, INC.</td>\n",
       "      <td>1.0</td>\n",
       "    </tr>\n",
       "    <tr>\n",
       "      <th>518474</th>\n",
       "      <td>HEIDRICK &amp; STRUGGLES, INC.</td>\n",
       "      <td>1.0</td>\n",
       "    </tr>\n",
       "    <tr>\n",
       "      <th>518655</th>\n",
       "      <td>CENTRE FOR KHMER STUDIES</td>\n",
       "      <td>1.0</td>\n",
       "    </tr>\n",
       "    <tr>\n",
       "      <th>518988</th>\n",
       "      <td>TRAVELZOO INC.</td>\n",
       "      <td>1.0</td>\n",
       "    </tr>\n",
       "    <tr>\n",
       "      <th>519040</th>\n",
       "      <td>TRAVELZOO INC.</td>\n",
       "      <td>1.0</td>\n",
       "    </tr>\n",
       "    <tr>\n",
       "      <th>519078</th>\n",
       "      <td>APIECE APART LLC</td>\n",
       "      <td>1.0</td>\n",
       "    </tr>\n",
       "    <tr>\n",
       "      <th>519297</th>\n",
       "      <td>APIECE APART LLC</td>\n",
       "      <td>1.0</td>\n",
       "    </tr>\n",
       "    <tr>\n",
       "      <th>519437</th>\n",
       "      <td>APIECE APART LLC</td>\n",
       "      <td>1.0</td>\n",
       "    </tr>\n",
       "    <tr>\n",
       "      <th>519473</th>\n",
       "      <td>THE SOUTH AFRICAN INC</td>\n",
       "      <td>1.0</td>\n",
       "    </tr>\n",
       "  </tbody>\n",
       "</table>\n",
       "<p>418 rows × 2 columns</p>\n",
       "</div>"
      ],
      "text/plain": [
       "                                lca_case_employer_name  total_workers\n",
       "71                     NUL SYSTEM SERVICES CORPORATION            1.0\n",
       "593                        SECONDMARKET HOLDINGS, INC.            1.0\n",
       "1318                            BAIN AND COMPANY, INC.            1.0\n",
       "3046                          EDWARDS LIFESCIENCES LLC            1.0\n",
       "3621                            BAIN AND COMPANY, INC.            1.0\n",
       "4925                 VERINON TECHNOLOGY SOLUTIONS LTD.            1.0\n",
       "6914                               IMETRIS CORPORATION            1.0\n",
       "7295                              CBS INTERACTIVE INC.            1.0\n",
       "7394                      V-SOFT CONSULTING GROUP, INC            1.0\n",
       "7614                              WOOD MACKENZIE, INC.            1.0\n",
       "8082                               AT&T SERVICES, INC.            1.0\n",
       "8420                                      MARLABS, INC            1.0\n",
       "9186                            ETEK IT SERVICES, INC.            1.0\n",
       "9235                                406 MANAGEMENT LLC            1.0\n",
       "10248                   FACTSET RESEARCH SYSTEMS, INC.            1.0\n",
       "13718                     V-SOFT CONSULTING GROUP, INC            1.0\n",
       "14871                    COMPU-VISION CONSULTING, INC.            1.0\n",
       "15485                     V-SOFT CONSULTING GROUP, INC            1.0\n",
       "15912                              EIGHT NEW YORK INC.            1.0\n",
       "20799   BONHAMS & BUTTERFIELDS AUCTIONEERS CORPORATION            1.0\n",
       "26767                                       MT LAW LLC            1.0\n",
       "27024                                  NM CREATIVE LLC            1.0\n",
       "27198                                    GROUPON, INC.            1.0\n",
       "30094                                  NM CREATIVE LLC            1.0\n",
       "31258                       DOMUS DESIGN CENTERS, INC.            1.0\n",
       "33085                                   SAGARSOFT, INC            1.0\n",
       "33494                                HCL AMERICA, INC.            1.0\n",
       "34266                   UNIVERSAL SOFTWARE CORPORATION            1.0\n",
       "36028                    COMPU-VISION CONSULTING, INC.            1.0\n",
       "40999                       GOLDMAN SACHS SERVICES LLC            1.0\n",
       "...                                                ...            ...\n",
       "514208                                BORDERFREE, INC.            1.0\n",
       "514367                                A+H ARCHITECTURE            1.0\n",
       "515160                                     SUIGEIN LLC            2.0\n",
       "515470                     LORD SECURITIES CORPORATION            1.0\n",
       "515859               RAVEN RECOVERY NUTRACEUTICALS LLC            1.0\n",
       "515916                                PAUL BARNETT INC            1.0\n",
       "515946                                  DOE FUND, INC.            1.0\n",
       "516344                            BETTS RECRUITING INC            1.0\n",
       "516419                                CONVERSANT, INC.            1.0\n",
       "516444                            BETTS RECRUITING INC            1.0\n",
       "516798                                   TWITTER, INC.            1.0\n",
       "516835                             MOTT STREET OPTICAL            1.0\n",
       "516953                            CLEARSTREAM.TV, INC.            1.0\n",
       "517016                            CLEARSTREAM.TV, INC.            1.0\n",
       "517140                            CLEARSTREAM.TV, INC.            1.0\n",
       "517402                               CROSSBOUNDARY LLC            1.0\n",
       "517574                      CARBON TRADE EXCHANGE INC.            1.0\n",
       "517791                                      CBRE, INC.            1.0\n",
       "517867                      CARBON TRADE EXCHANGE INC.            1.0\n",
       "517991                           THE SOUTH AFRICAN INC            1.0\n",
       "518297                        CENTRE FOR KHMER STUDIES            1.0\n",
       "518451               ASSOCIATED FOREIGN EXCHANGE, INC.            1.0\n",
       "518474                      HEIDRICK & STRUGGLES, INC.            1.0\n",
       "518655                        CENTRE FOR KHMER STUDIES            1.0\n",
       "518988                                  TRAVELZOO INC.            1.0\n",
       "519040                                  TRAVELZOO INC.            1.0\n",
       "519078                                APIECE APART LLC            1.0\n",
       "519297                                APIECE APART LLC            1.0\n",
       "519437                                APIECE APART LLC            1.0\n",
       "519473                           THE SOUTH AFRICAN INC            1.0\n",
       "\n",
       "[418 rows x 2 columns]"
      ]
     },
     "execution_count": 19,
     "metadata": {},
     "output_type": "execute_result"
    }
   ],
   "source": [
    "#get a subset of the NYC data with employer name and total workers\n",
    "dfNycWorkers = dfSubset(dfNyc,'lca_case_employer_name','total_workers')\n",
    "dfNycWorkers"
   ]
  },
  {
   "cell_type": "code",
   "execution_count": 20,
   "metadata": {
    "collapsed": true
   },
   "outputs": [],
   "source": [
    "#group by company and sum the number of workers    \n",
    "nycWorkers = dfNycWorkers.groupby(['lca_case_employer_name']).sum()"
   ]
  },
  {
   "cell_type": "code",
   "execution_count": 21,
   "metadata": {
    "collapsed": false
   },
   "outputs": [
    {
     "name": "stdout",
     "output_type": "stream",
     "text": [
      "total_workers    30.0\n",
      "dtype: float64\n"
     ]
    },
    {
     "data": {
      "text/plain": [
       "['MPHASIS CORPORATION']"
      ]
     },
     "execution_count": 21,
     "metadata": {},
     "output_type": "execute_result"
    }
   ],
   "source": [
    "#get the employer with the maximum number of workers and what that max is\n",
    "nycMaxWorkers = nycWorkers[['total_workers']].max()\n",
    "print(nycMaxWorkers)\n",
    "#determine which employer this is\n",
    "nycWorkers[ nycWorkers['total_workers'] == float(nycMaxWorkers)].index.tolist()"
   ]
  },
  {
   "cell_type": "markdown",
   "metadata": {},
   "source": [
    "#### Section 1, Question 1 Results:\n",
    "\n",
    "The result was that The NYC/New York City employer applying for the greatest number of visas was 'MPHASIS CORPORATION' with 30 total workers.\n",
    "\n",
    "Simplifications: \n",
    "\n",
    "In the interest of time, this analysis only looked at applications where work location 1 or 2 was “NYC” or “New York City”, and employer names were not adjusted before consolidation. \n",
    "\n",
    "Issues Encountered:\n",
    "* Several issues were encountered in this analysis. The first is that while the state name is the standard two letter state code, the city names used for work locations do not appear to be standardized (i.e. selected from a drop down menu). Rather, there are many ways in which New York City is referred to by various employers including “NYC”, “New York City”, “Brooklyn”, “Manhattan”, etc.  In addition in some cases there are misspellings of these names.  \n",
    "\n",
    "* The next issue encountered is with the employer name. The same employer name can be spelled in a number of ways:\n",
    "\n",
    "  * Some companies had names with punctuation for one application and none in their name for another: INFOCEPTS LLC vs INFOCEPTS, LLC vs INFOCEPTS. Punctuation and suffixes (LLC, INC, etc) could be removed to resolve this issue\n",
    "  * Some companies have multiple divisions: GOLDMAN SACHS EXECUTION & CLEARING L.P., GOLDMAN SACHS SERVICES LLC , GOLDMAN, SACHS & CO.  This issue is more difficult to resolve as there would need to be an automated way to identify that these are all variations of “GOLDMAN SACHS”. Even referring to the official SEC company name list (https://www.sec.gov/rules/other/4-460list.htm) wouldn’t immediately resolve the issue as the official name there is: \n",
    "      * Goldman Sachs Group Inc. This problem would require a normalizing algorithm  (as described here https://www.addaptive.com/blog/using-algorithms-normalize-company-names/) or   Name Entity Recognition   (as described here: https://nlp.stanford.edu/software/CRF-NER.shtml)\n"
   ]
  },
  {
   "cell_type": "markdown",
   "metadata": {},
   "source": [
    "#### Section 1, Question 2\n",
    "Calculate the mean and standard deviation of wages proposed for workers \n",
    "located in New York City and Mountain View. Are the average wages in these two locations statistically different? What factors could explain the results?\n"
   ]
  },
  {
   "cell_type": "markdown",
   "metadata": {},
   "source": [
    "Data understanding on wage rates:\n",
    "\n",
    "* WAGE RATE FROM: Employer’s proposed wage rate\n",
    "* WAGE RATE TO: Maximum proposed wage rate\n",
    "* WAGE RATE UNIT: Unit of pay. Valid values include “Hour\", \"Week\", \"Bi-Weekly\", \"Month\", or \"Year\"\n",
    "* FULL TIME POSITION: Y = Full Time Position; N = Part Time Position\n",
    "    * For the purpose of the wage analysis in this section, wages for part time will be used as though they were full time"
   ]
  },
  {
   "cell_type": "markdown",
   "metadata": {},
   "source": [
    "Determine how many applications have annual wage units vs. other units.  If more than 80% are annual, then simplify by using only those applications that have annual wages, so other types of wages won't need to be normalized to annual."
   ]
  },
  {
   "cell_type": "code",
   "execution_count": 22,
   "metadata": {
    "collapsed": true
   },
   "outputs": [],
   "source": [
    "#Get the number of jobs that fall into each unit category\n",
    "def units(dfCity):\n",
    "    \"\"\"\n",
    "    This function takes the city specific dataframe and produces a subset of the\n",
    "    dataframe with unit type and wage rate, and also calculates the \n",
    "    distribution of wages by unit type\n",
    "    \"\"\"\n",
    "    units = dfCity[['lca_case_wage_rate_from','lca_case_wage_rate_unit','total_workers']]\n",
    "    unitWorkers = units.groupby(['lca_case_wage_rate_unit']).sum()\n",
    "    return units, unitWorkers\n"
   ]
  },
  {
   "cell_type": "code",
   "execution_count": 23,
   "metadata": {
    "collapsed": false
   },
   "outputs": [
    {
     "data": {
      "text/plain": [
       "lca_case_wage_rate_unit\n",
       "Hour     42.0\n",
       "Week      2.0\n",
       "Year    465.0\n",
       "Name: total_workers, dtype: float64"
      ]
     },
     "execution_count": 23,
     "metadata": {},
     "output_type": "execute_result"
    }
   ],
   "source": [
    "#get the units dataframe and distribution by unit for NY    \n",
    "unitsNyc, unitWorkersNyc = units(dfNyc)\n",
    "unitWorkersNyc.iloc[:,1]"
   ]
  },
  {
   "cell_type": "code",
   "execution_count": 24,
   "metadata": {
    "collapsed": false
   },
   "outputs": [
    {
     "data": {
      "text/plain": [
       "lca_case_wage_rate_unit\n",
       "Bi-Weekly        1.0\n",
       "Hour            85.0\n",
       "Month            3.0\n",
       "Year         11634.0\n",
       "Name: total_workers, dtype: float64"
      ]
     },
     "execution_count": 24,
     "metadata": {},
     "output_type": "execute_result"
    }
   ],
   "source": [
    "#get the dataframe for Mountain View\n",
    "dfMv= cities('mountain view')\n",
    "\n",
    "#get the distribution by unit for Mountain View\n",
    "unitsMv, unitWorkersMv = units(dfMv)\n",
    "unitWorkersMv.iloc[:,1]"
   ]
  },
  {
   "cell_type": "markdown",
   "metadata": {},
   "source": [
    "Greater than 90% of the applications by total workers are annual. To simplify for the purpose of this exercise, only applications where the proposed wage unit was annual will be considered."
   ]
  },
  {
   "cell_type": "code",
   "execution_count": 26,
   "metadata": {
    "collapsed": true
   },
   "outputs": [],
   "source": [
    "#Calculate mean and standard deviation\n",
    "\n",
    "def wages(units):\n",
    "    \"\"\"\n",
    "    This function takes the units dataframe and calculates the mean and \n",
    "    standard deviation of the wages for annual workers and outputs the list\n",
    "    of wages\n",
    "    \"\"\"\n",
    "    #get the mean and standard deviation by unit type\n",
    "    avgWageCity = units.groupby(['lca_case_wage_rate_unit']).mean()\n",
    "    sdWageCity = units.groupby(['lca_case_wage_rate_unit']).std()\n",
    "    #get the mean and standard devaiation for annual wages only\n",
    "    yearWageMean = avgWageCity.loc['Year','lca_case_wage_rate_from'].tolist()\n",
    "    yearWageStd = sdWageCity.loc['Year','lca_case_wage_rate_from'].tolist()\n",
    "    \n",
    "    #get the list of annual wages\n",
    "    annWageCity = units[units['lca_case_wage_rate_unit'] == 'Year']['lca_case_wage_rate_from']\n",
    "    print( [round(yearWageMean,2),round(yearWageStd,2)] )\n",
    " \n",
    "    return yearWageMean, yearWageStd, annWageCity\n"
   ]
  },
  {
   "cell_type": "code",
   "execution_count": 27,
   "metadata": {
    "collapsed": false
   },
   "outputs": [
    {
     "name": "stdout",
     "output_type": "stream",
     "text": [
      "[82195.14, 36408.09]\n",
      "[112573.89, 30730.94]\n"
     ]
    }
   ],
   "source": [
    "#get average and standard deviation of annual wages for NYC and Mountain View\n",
    "avgWageNyc, stdWageNyc, annWageNyc = wages(unitsNyc)\n",
    "avgWageMv, stdWageMv, annWageMv = wages(unitsMv)"
   ]
  },
  {
   "cell_type": "markdown",
   "metadata": {},
   "source": [
    "To test if the means are statistically different, we can use a t-test if both distributions are approximately normal and the population variances are equal.\n",
    "\n",
    "A QQ plot can be used to check for normality, while an F test can be used to check for equal variance.\n",
    "\n",
    "If these conditions are not satisfied we will need to use a non-parametric test, such as a KS test"
   ]
  },
  {
   "cell_type": "code",
   "execution_count": 28,
   "metadata": {
    "collapsed": true
   },
   "outputs": [],
   "source": [
    "def qqPlot(valList):\n",
    "    \"\"\"\n",
    "    This function produces a QQ plot for a distribution entered as a list of \n",
    "    numbers (float)\n",
    "    \"\"\"\n",
    "    stats.probplot(valList, dist=\"norm\", plot=pylab)\n",
    "    pylab.show()"
   ]
  },
  {
   "cell_type": "code",
   "execution_count": 32,
   "metadata": {
    "collapsed": false
   },
   "outputs": [
    {
     "data": {
      "image/png": "[encoded data removed]",
      "text/plain": [
       "<matplotlib.figure.Figure at 0x1d3b2630>"
      ]
     },
     "metadata": {},
     "output_type": "display_data"
    },
    {
     "data": {
      "image/png": "[encoded data removed]",
      "text/plain": [
       "<matplotlib.figure.Figure at 0x1bbdf4e0>"
      ]
     },
     "metadata": {},
     "output_type": "display_data"
    }
   ],
   "source": [
    "#New York City QQ plot\n",
    "qqPlot(annWageNyc.tolist())  #the New York City plot is not close to normal\n",
    "#Mountain View QQ plot\n",
    "qqPlot(annWageMv.tolist())  #the Mountain View Plot is close to normal, except at the the tails.\n"
   ]
  },
  {
   "cell_type": "markdown",
   "metadata": {},
   "source": [
    "Because the New York City distribution is not a normal distribution, a \n",
    "non-parametric test is needed instead of t-test to determine if the means are statistically different"
   ]
  },
  {
   "cell_type": "code",
   "execution_count": 33,
   "metadata": {
    "collapsed": false
   },
   "outputs": [
    {
     "name": "stdout",
     "output_type": "stream",
     "text": [
      "('p = ', 2.4090574240365934e-87)\n",
      "significant\n"
     ]
    }
   ],
   "source": [
    "#run a KS test\n",
    "t,p = stats.ks_2samp(annWageNyc.tolist(), annWageMv.tolist())\n",
    "print('p = ',p)\n",
    "if p < 0.05:\n",
    "    print('significant')\n",
    "else:\n",
    "    print('not significant')\n",
    "    "
   ]
  },
  {
   "cell_type": "markdown",
   "metadata": {},
   "source": [
    "The distribution of wages for New York City did not resemble a normal \n",
    "distribution so a non-parametric test was used to test whether the average wages of Mountain View are different from NYC. The results is that they are statistically significant: the means are different. The mean for Mountain View is \\$112,574 is higher than the mean for \n",
    "NYC which is $82,195.\n",
    "\n",
    "The following factors could explain the results:\n",
    "  *  This analysis was simplified to only include companies where location 1 or location 2 is \"NYC\" or \"New York City\", however there are many variations on these names so not all of NYC is being captured in this data such that it might not be representative of New York City wages for H-1B visas.\n",
    "  *\tThe cost of living may be higher in Mountain View than in NYC, leading to higher salaries. This would require an additional data source to verify\n",
    "  *\tThe number and/or types of jobs for which visas are being requested in Mountain View may be higher paying or have lower supply or higher demand, than those in NYC"
   ]
  },
  {
   "cell_type": "markdown",
   "metadata": {},
   "source": [
    "#### Section 1, Question 3\n",
    "For NYC, what is the relationship between the total number of H-1B visas requested by an employer and the average wages proposed? Visually represent this relationship if appropriate. Is the relationship statistically significant? What might explain this relationship?"
   ]
  },
  {
   "cell_type": "code",
   "execution_count": 34,
   "metadata": {
    "collapsed": true
   },
   "outputs": [],
   "source": [
    "#get applications with annual wages for NYC\n",
    "dfNycAnn = dfNyc[dfNyc['lca_case_wage_rate_unit'] == 'Year']\n",
    "#subset to just three fields\n",
    "dfNycWages = dfNyc[ ['lca_case_employer_name','total_workers','lca_case_wage_rate_from'] ]\n",
    "#group by employer and summ the number of workers\n",
    "nycWages = dfNycWages.groupby(['lca_case_employer_name']).mean()['lca_case_wage_rate_from'].tolist()\n",
    "nycWorkers = dfNycWages.groupby(['lca_case_employer_name']).sum()['total_workers'].tolist()"
   ]
  },
  {
   "cell_type": "code",
   "execution_count": 35,
   "metadata": {
    "collapsed": false
   },
   "outputs": [
    {
     "data": {
      "text/plain": [
       "(0, 300000.0)"
      ]
     },
     "execution_count": 35,
     "metadata": {},
     "output_type": "execute_result"
    },
    {
     "data": {
      "image/png": "[encoded data removed]",
      "text/plain": [
       "<matplotlib.figure.Figure at 0x199d7240>"
      ]
     },
     "metadata": {},
     "output_type": "display_data"
    }
   ],
   "source": [
    "#plot the scatter plot\n",
    "pylab.scatter(nycWorkers,nycWages)\n",
    "pylab.xlabel('# workers per employer')\n",
    "pylab.ylabel('avg wages per employer')\n",
    "pylab.xlim(0,)\n",
    "pylab.ylim(0,)"
   ]
  },
  {
   "cell_type": "code",
   "execution_count": 36,
   "metadata": {
    "collapsed": false
   },
   "outputs": [
    {
     "data": {
      "text/plain": [
       "(0.065496463548107314, 0.31846870871692534)"
      ]
     },
     "execution_count": 36,
     "metadata": {},
     "output_type": "execute_result"
    }
   ],
   "source": [
    "#calculate the correlation\n",
    "stats.pearsonr(nycWorkers,nycWages)"
   ]
  },
  {
   "cell_type": "markdown",
   "metadata": {},
   "source": [
    "The correlation is very weak at 0.065, and the p-value of 0.318 is greater than 0.05 so this correlation is not signficant. There is no statistically signficant relationship between the number of workers and average proposed wage rates.\n",
    "\n",
    "Based on the scatter plot, only a small percentage of companies have applications with more than 5 jobs and there is no obvious pattern between average wages and the number of positions."
   ]
  },
  {
   "cell_type": "markdown",
   "metadata": {},
   "source": [
    "#### Section 2\n",
    "What interesting questions might this dataset address? Brainstorm a handful of interesting questions, and scope them. Describe steps, methodology, and level of effort that would be required to answer each question. Additional, enriching, datasets are allowed, but not required."
   ]
  },
  {
   "cell_type": "markdown",
   "metadata": {},
   "source": [
    "#### Section 2 Response"
   ]
  },
  {
   "cell_type": "markdown",
   "metadata": {},
   "source": [
    "** Question 1 **\n",
    "\n",
    "How do the proposed wages compare to the prevailing wages? Are they higher or lower. Are there differences by location - do some consistently pay more/less than the prevailing wage?  The same question could also be asked by industry and occupation.\n",
    "\n",
    "Steps:  \n",
    "1- Determine which cases have proposed wages that are (10%) higher/lower than prevailing, or (25%) higher/lower than the prevailing.  \n",
    "2 - As a percentage determine which states have the largest percentage of cases with 10%/25% higher/lower proposed wages  \n",
    "3 - Drill down by employer, occupation, or industry to determine what might be driving these differences.  \n",
    "\n",
    "Level of Effort: Easy to Moderate  \n"
   ]
  },
  {
   "cell_type": "markdown",
   "metadata": {},
   "source": [
    "\n",
    "** Question 2 **\n",
    "\n",
    "Can we predict the status of an application: which applications are likely to be certified? Status can be \"Certified\",\"Certified-Withdrawn\",\"Denied\", and \"Withdrawn\"\n",
    "\n",
    "** Option 1 **\n",
    "\n",
    "Steps:   \n",
    "1 - Data Exploration of the following possible features: submission month (does season or time of year make a difference), length of employment, Full Time vs Part Time, number of workers, Location (group by region to simplify), Proposed wage rate higher or lower than prevailing   \n",
    "2 - Narrow to the 3 features based on data exploration   \n",
    "3 - Since we don't have enough information about \"withdrawn\"   applications, remove these from the data set, include only \"Certified\" and \"Denied\"  \n",
    "4 - Run a logistic regression to identify which combination of features are predictive of an application being certified.\n",
    "Level of effort: moderate  \n",
    "\n",
    "** Option 2 **\n",
    "\n",
    "Steps:  Steps 1 through 3 above and then\n",
    "\n",
    "4- Set aside a random sample of 20% as a holdout set for final testing  \n",
    "5- Divide the remaining 80% into testing and training sets, consider a balanced training set (equal number of certified and not certified) if there are many more non certified than certified applications  \n",
    "6 - build a few different models - options include a tree model and logistic regression, since this is a supervised learning problem and has a binary outcome.  \n",
    "7 - A learning curve can be used to determine the size of the training set, and for the tree model a fitting curve can be used to determine the number of levels in the tree  \n",
    "8 - Build the two models using the training data  \n",
    "9 - Evaluate the models by analyzing the confusion matrix - if we assume that it is time consuming to create an application and costly if it isn't certified since the company can't hire the people they need, then we want to reduce false positives (predicting the application will be certified when it isn't), so we want to optimize on precision   \n",
    "10 - Use an ROC curve (true positive rate vs. false positive rate) and the AUC to compare these models to each other and to the random model.  \n",
    "11 - Unless one model is clearly better than the other, apply both models to the holdout set and apply the above testing methods to determine which model is better  \n",
    "Level of effort: high"
   ]
  },
  {
   "cell_type": "markdown",
   "metadata": {},
   "source": [
    "** Question 3 **\n",
    "\n",
    "For applications that are certified, can we predict the time to certification (decision date - submit date)\n",
    "\n",
    "Steps:\n",
    "\n",
    "Option 1 - create a binary target variable where time to certification is either long or short and follow similar steps to question 2. Level of effort: moderate  \n",
    "\n",
    "Option 2 - Follow similar steps for question 2, but use linear regression/ordinary least squares since the target is a continuous rather than catagorical variable.  level of effort - high  \n"
   ]
  },
  {
   "cell_type": "markdown",
   "metadata": {},
   "source": [
    "#### Section 3\n",
    "Choose a question to answer from your brainstorming section. \n",
    "\n",
    "Answer to Question 2 using the option 1 - the moderate effor solution of data exploration and a logistic regression."
   ]
  },
  {
   "cell_type": "markdown",
   "metadata": {},
   "source": [
    "Can we predict the status of an application: which applications are likely to be certified? Status can be \"Certified\",\"Certified-Withdrawn\",\"Denied\", and \"Withdrawn\n",
    "\n",
    "** Step 1 **  \n",
    "Data Exploration of the following possible features: submission month (does season or time of year make a difference), length of employment, Full Time vs Part Time, number of workers, Location (group by region to simplify), Proposed wage rate"
   ]
  },
  {
   "cell_type": "code",
   "execution_count": 37,
   "metadata": {
    "collapsed": false
   },
   "outputs": [
    {
     "data": {
      "text/plain": [
       "['lca_case_number',\n",
       " 'status',\n",
       " 'lca_case_submit',\n",
       " 'decision_date',\n",
       " 'visa_class',\n",
       " 'lca_case_employment_start_date',\n",
       " 'lca_case_employment_end_date',\n",
       " 'lca_case_employer_name',\n",
       " 'lca_case_employer_address',\n",
       " 'lca_case_employer_city',\n",
       " 'lca_case_employer_state',\n",
       " 'lca_case_employer_postal_code',\n",
       " 'lca_case_soc_code',\n",
       " 'lca_case_soc_name',\n",
       " 'lca_case_job_title',\n",
       " 'lca_case_wage_rate_from',\n",
       " 'lca_case_wage_rate_to',\n",
       " 'lca_case_wage_rate_unit',\n",
       " 'full_time_pos',\n",
       " 'total_workers',\n",
       " 'lca_case_workloc1_city',\n",
       " 'lca_case_workloc1_state',\n",
       " 'pw_1',\n",
       " 'pw_unit_1',\n",
       " 'pw_source_1',\n",
       " 'other_wage_source_1',\n",
       " 'yr_source_pub_1',\n",
       " 'lca_case_workloc2_city',\n",
       " 'lca_case_workloc2_state',\n",
       " 'pw_2',\n",
       " 'pw_unit_2',\n",
       " 'pw_source_2',\n",
       " 'other_wage_source_2',\n",
       " 'yr_source_pub_2',\n",
       " 'lca_case_naics_code',\n",
       " 'serialid']"
      ]
     },
     "execution_count": 37,
     "metadata": {},
     "output_type": "execute_result"
    }
   ],
   "source": [
    "#get list of field names\n",
    "list(df)"
   ]
  },
  {
   "cell_type": "code",
   "execution_count": 40,
   "metadata": {
    "collapsed": false
   },
   "outputs": [
    {
     "data": {
      "text/plain": [
       "['CERTIFIED',\n",
       " 'CERTIFIED-WITHDRAWN',\n",
       " 'DENIED',\n",
       " 'INVALIDATED',\n",
       " 'REJECTED',\n",
       " 'WITHDRAWN']"
      ]
     },
     "execution_count": 40,
     "metadata": {},
     "output_type": "execute_result"
    }
   ],
   "source": [
    "#Look at the status types\n",
    "statusList = list(set(df['status'].tolist()))\n",
    "statusList.sort()\n",
    "statusList"
   ]
  },
  {
   "cell_type": "code",
   "execution_count": 41,
   "metadata": {
    "collapsed": false
   },
   "outputs": [
    {
     "data": {
      "text/plain": [
       "status\n",
       "CERTIFIED              0.876\n",
       "CERTIFIED-WITHDRAWN    0.070\n",
       "DENIED                 0.023\n",
       "INVALIDATED            0.000\n",
       "REJECTED               0.000\n",
       "WITHDRAWN              0.031\n",
       "dtype: float64"
      ]
     },
     "execution_count": 41,
     "metadata": {},
     "output_type": "execute_result"
    }
   ],
   "source": [
    "#look at how the status types are distributed\n",
    "statusDist = df.groupby(['status']).size()\n",
    "#show percentage\n",
    "statusDistPct = statusDist/(len(df['status'].tolist()))\n",
    "statusDistPct = statusDistPct.round(3)\n",
    "statusDistPct"
   ]
  },
  {
   "cell_type": "code",
   "execution_count": 42,
   "metadata": {
    "collapsed": false
   },
   "outputs": [
    {
     "data": {
      "text/plain": [
       "0.022"
      ]
     },
     "execution_count": 42,
     "metadata": {},
     "output_type": "execute_result"
    }
   ],
   "source": [
    "#total workers\n",
    "workersAll = df['total_workers'].sum()\n",
    "#total workers denied\n",
    "workersDenied = df[ df['status'] == 'DENIED' ]['total_workers'].sum()\n",
    "round(workersDenied/workersAll,3)"
   ]
  },
  {
   "cell_type": "markdown",
   "metadata": {},
   "source": [
    "just over 2% of applications and applications by worker are denied"
   ]
  },
  {
   "cell_type": "code",
   "execution_count": 43,
   "metadata": {
    "collapsed": true
   },
   "outputs": [],
   "source": [
    "#create a function to view distributions of features\n",
    "def featureExplore(df,field,nBins):\n",
    "    \"\"\"\n",
    "    This function splits out a specific feature and creates a normalize \n",
    "    histogram for each status for that feature\n",
    "    \"\"\"\n",
    "    dfNew = dfSubset(df,'status',field)\n",
    "    #remove rows with nan values\n",
    "    dfNew = dfNew.dropna()\n",
    "    xmin = dfNew[field].min()\n",
    "    xmax = dfNew[field].max()\n",
    "    \n",
    "    #get one figure for each status (6 total) and get percent that fall into\n",
    "    #each bin\n",
    "\n",
    "    #set up the subplots\n",
    "    f, axs = plt.subplots(3, 2, figsize=(10, 10))\n",
    "    #for each status subplot\n",
    "    for i,ax in enumerate(axs.flat): #this will iterate over all 6 axes\n",
    "        #get the rows associated with status i in statusList\n",
    "        dfStatus = dfNew[ dfNew['status'] == statusList[i] ]\n",
    "        #create a numpy histogram\n",
    "        hist, bins = np.histogram(dfStatus[field],nBins)\n",
    "        #divide each bin by the sum of the total histogram to normalize\n",
    "        ax.bar(bins[:-1], hist.astype(np.float32) / hist.sum(), width=(bins[1]-bins[0]), color='grey')   \n",
    "        #set the axes\n",
    "        ax.set_xlim(xmin=xmin, xmax=xmax)\n",
    "        ax.set_ylim(ymin=0, ymax=1) \n",
    "        #set the title\n",
    "        ax.set_title(statusList[i])    "
   ]
  },
  {
   "cell_type": "markdown",
   "metadata": {},
   "source": [
    "** View applications by month and their ultimate status  **   \n",
    "Transform the date variable - look at just month of year even though some cases were submitted in prior years"
   ]
  },
  {
   "cell_type": "code",
   "execution_count": 44,
   "metadata": {
    "collapsed": true
   },
   "outputs": [],
   "source": [
    "#get a column with just the submitMonth\n",
    "#get the submission date in a date format\n",
    "df.loc[:,'submitDate'] = pd.to_datetime(df['lca_case_submit'])\n",
    "df.loc[:,'submitMonth'] = df.submitDate.dt.month"
   ]
  },
  {
   "cell_type": "code",
   "execution_count": 45,
   "metadata": {
    "collapsed": false
   },
   "outputs": [
    {
     "data": {
      "image/png": "[encoded data removed]",
      "text/plain": [
       "<matplotlib.figure.Figure at 0x1bbdfda0>"
      ]
     },
     "metadata": {},
     "output_type": "display_data"
    }
   ],
   "source": [
    "#explore the feature\n",
    "featureExplore(df,'submitMonth',12)"
   ]
  },
  {
   "cell_type": "markdown",
   "metadata": {},
   "source": [
    "Feature: month of submission  \n",
    "More applications are submitted in February and March than any other time but the pattern appears to be very similar for certified vs. denied so there"
   ]
  },
  {
   "cell_type": "markdown",
   "metadata": {},
   "source": [
    "** Create a variable for length of employment **"
   ]
  },
  {
   "cell_type": "code",
   "execution_count": 47,
   "metadata": {
    "collapsed": false
   },
   "outputs": [],
   "source": [
    "#convert employment start date and end date to date format\n",
    "df.loc[:,'empStartDate'] = pd.to_datetime(df['lca_case_employment_start_date'])\n",
    "df.loc[:,'empEndDate'] = pd.to_datetime(df['lca_case_employment_end_date'])\n",
    "#get the length of employment in days\n",
    "df.loc[:,'empLength'] = (df['empEndDate'] - df['empStartDate']).dt.days.round(0)"
   ]
  },
  {
   "cell_type": "code",
   "execution_count": 48,
   "metadata": {
    "collapsed": false
   },
   "outputs": [
    {
     "data": {
      "image/png": "[encoded data removed]",
      "text/plain": [
       "<matplotlib.figure.Figure at 0x19a812e8>"
      ]
     },
     "metadata": {},
     "output_type": "display_data"
    }
   ],
   "source": [
    "#explore the feature\n",
    "featureExplore(df,'empLength',10)"
   ]
  },
  {
   "cell_type": "markdown",
   "metadata": {},
   "source": [
    "Timeframes shorter than 1000 days seem somewhat more likely to be denied - possible feature"
   ]
  },
  {
   "cell_type": "markdown",
   "metadata": {},
   "source": [
    "** Create a variable for FT vs PT **"
   ]
  },
  {
   "cell_type": "code",
   "execution_count": 50,
   "metadata": {
    "collapsed": true
   },
   "outputs": [],
   "source": [
    "#convert FT to 1 and PT to 0\n",
    "df.loc[:,'FT'] = df['full_time_pos'].map({'Y': 1, 'N': 0})"
   ]
  },
  {
   "cell_type": "code",
   "execution_count": 51,
   "metadata": {
    "collapsed": false
   },
   "outputs": [
    {
     "data": {
      "image/png": "[encoded data removed]",
      "text/plain": [
       "<matplotlib.figure.Figure at 0x1b67e518>"
      ]
     },
     "metadata": {},
     "output_type": "display_data"
    }
   ],
   "source": [
    "featureExplore(df,'FT',2)"
   ]
  },
  {
   "cell_type": "markdown",
   "metadata": {},
   "source": [
    "A slightly larger percentage of part time are denied - possible feature"
   ]
  },
  {
   "cell_type": "markdown",
   "metadata": {},
   "source": [
    "** number of workers **"
   ]
  },
  {
   "cell_type": "code",
   "execution_count": 52,
   "metadata": {
    "collapsed": false
   },
   "outputs": [
    {
     "data": {
      "image/png": "[encoded data removed]",
      "text/plain": [
       "<matplotlib.figure.Figure at 0x18d55630>"
      ]
     },
     "metadata": {},
     "output_type": "display_data"
    }
   ],
   "source": [
    "featureExplore(df,'total_workers',2)"
   ]
  },
  {
   "cell_type": "code",
   "execution_count": 53,
   "metadata": {
    "collapsed": false
   },
   "outputs": [
    {
     "data": {
      "text/plain": [
       "Counter({nan: 1,\n",
       "         1.0: 472897,\n",
       "         2.0: 7904,\n",
       "         3.0: 5002,\n",
       "         4.0: 1718,\n",
       "         5.0: 6504,\n",
       "         6.0: 1708,\n",
       "         7.0: 680,\n",
       "         8.0: 582,\n",
       "         9.0: 171,\n",
       "         10.0: 8376,\n",
       "         11.0: 61,\n",
       "         12.0: 133,\n",
       "         13.0: 36,\n",
       "         14.0: 37,\n",
       "         15.0: 4675,\n",
       "         16.0: 44,\n",
       "         17.0: 14,\n",
       "         18.0: 29,\n",
       "         19.0: 7,\n",
       "         20.0: 3406,\n",
       "         21.0: 14,\n",
       "         22.0: 14,\n",
       "         23.0: 10,\n",
       "         24.0: 21,\n",
       "         25.0: 1390,\n",
       "         26.0: 10,\n",
       "         27.0: 1,\n",
       "         28.0: 8,\n",
       "         29.0: 5,\n",
       "         30.0: 2153,\n",
       "         nan: 1,\n",
       "         32.0: 4,\n",
       "         33.0: 1,\n",
       "         34.0: 1,\n",
       "         35.0: 66,\n",
       "         36.0: 9,\n",
       "         37.0: 1,\n",
       "         40.0: 244,\n",
       "         42.0: 5,\n",
       "         43.0: 12,\n",
       "         44.0: 1,\n",
       "         45.0: 14,\n",
       "         46.0: 7,\n",
       "         48.0: 1,\n",
       "         50.0: 882,\n",
       "         55.0: 20,\n",
       "         59.0: 1,\n",
       "         60.0: 56,\n",
       "         65.0: 18,\n",
       "         nan: 1,\n",
       "         70.0: 17,\n",
       "         75.0: 30,\n",
       "         80.0: 1,\n",
       "         86.0: 1,\n",
       "         90.0: 1,\n",
       "         99.0: 1,\n",
       "         100.0: 487,\n",
       "         110.0: 1,\n",
       "         200.0: 8,\n",
       "         2013.0: 1})"
      ]
     },
     "execution_count": 53,
     "metadata": {},
     "output_type": "execute_result"
    }
   ],
   "source": [
    "#look at more information\n",
    "\n",
    "#look at the counts\n",
    "workers = df['total_workers'].tolist()\n",
    "Counter(workers)"
   ]
  },
  {
   "cell_type": "code",
   "execution_count": 55,
   "metadata": {
    "collapsed": false
   },
   "outputs": [
    {
     "name": "stdout",
     "output_type": "stream",
     "text": [
      "total_workers\n",
      "1.0      0.904551\n",
      "2.0      0.014743\n",
      "3.0      0.010267\n",
      "4.0      0.003280\n",
      "5.0      0.013409\n",
      "6.0      0.003572\n",
      "7.0      0.001419\n",
      "8.0      0.001217\n",
      "9.0      0.000360\n",
      "10.0     0.017676\n",
      "11.0     0.000101\n",
      "12.0     0.000270\n",
      "13.0     0.000066\n",
      "14.0     0.000075\n",
      "15.0     0.010039\n",
      "16.0     0.000086\n",
      "17.0     0.000029\n",
      "18.0     0.000059\n",
      "19.0     0.000015\n",
      "20.0     0.007264\n",
      "21.0     0.000031\n",
      "22.0     0.000031\n",
      "23.0     0.000015\n",
      "24.0     0.000046\n",
      "25.0     0.002872\n",
      "26.0     0.000022\n",
      "27.0     0.000002\n",
      "28.0     0.000018\n",
      "29.0     0.000011\n",
      "30.0     0.004418\n",
      "32.0     0.000009\n",
      "33.0     0.000002\n",
      "34.0     0.000002\n",
      "35.0     0.000143\n",
      "36.0     0.000020\n",
      "37.0     0.000002\n",
      "40.0     0.000497\n",
      "42.0     0.000011\n",
      "43.0     0.000026\n",
      "44.0     0.000002\n",
      "45.0     0.000031\n",
      "46.0     0.000015\n",
      "48.0     0.000002\n",
      "50.0     0.001903\n",
      "55.0     0.000044\n",
      "59.0     0.000002\n",
      "60.0     0.000123\n",
      "65.0     0.000035\n",
      "70.0     0.000033\n",
      "75.0     0.000059\n",
      "80.0     0.000002\n",
      "86.0     0.000002\n",
      "90.0     0.000002\n",
      "99.0     0.000002\n",
      "100.0    0.001046\n",
      "110.0    0.000002\n",
      "200.0    0.000018\n",
      "dtype: float64\n",
      "total_workers\n",
      "1.0       0.914810\n",
      "2.0       0.022868\n",
      "3.0       0.008712\n",
      "4.0       0.003686\n",
      "5.0       0.012062\n",
      "6.0       0.003099\n",
      "7.0       0.001005\n",
      "8.0       0.000419\n",
      "9.0       0.000251\n",
      "10.0      0.013319\n",
      "11.0      0.000921\n",
      "12.0      0.000586\n",
      "13.0      0.000251\n",
      "14.0      0.000168\n",
      "15.0      0.004523\n",
      "16.0      0.000251\n",
      "20.0      0.003099\n",
      "23.0      0.000168\n",
      "25.0      0.004775\n",
      "30.0      0.002094\n",
      "35.0      0.000084\n",
      "40.0      0.000419\n",
      "50.0      0.001256\n",
      "75.0      0.000251\n",
      "100.0     0.000586\n",
      "2013.0    0.000084\n",
      "dtype: float32\n"
     ]
    }
   ],
   "source": [
    "#group by status and total workers, then view distribution\n",
    "workerStatus = df.groupby(['status', 'total_workers']).size()\n",
    "workStatD = workerStatus['DENIED']\n",
    "workStatC = workerStatus['CERTIFIED']\n",
    "\n",
    "certTotal = statusDist.get('CERTIFIED')\n",
    "denTotal = statusDist.get('DENIED')\n",
    "\n",
    "print workStatC.astype(np.float32) / certTotal\n",
    "print workStatD.astype(np.float32) / denTotal"
   ]
  },
  {
   "cell_type": "code",
   "execution_count": 56,
   "metadata": {
    "collapsed": true
   },
   "outputs": [],
   "source": [
    "#get a df with applications with more than one worker\n",
    "dfWorkerGtr1 = df[ df['total_workers'] > 1 ]\n",
    "dfWorker1_20 = df[ (df['total_workers'] >= 1) & (df['total_workers'] <= 20) ] \n",
    "dfWorker20_50 = df[ (df['total_workers'] > 20) & (df['total_workers'] <= 50) ] "
   ]
  },
  {
   "cell_type": "code",
   "execution_count": 57,
   "metadata": {
    "collapsed": false
   },
   "outputs": [
    {
     "data": {
      "image/png": "[encoded data removed]",
      "text/plain": [
       "<matplotlib.figure.Figure at 0x19a7f438>"
      ]
     },
     "metadata": {},
     "output_type": "display_data"
    }
   ],
   "source": [
    "featureExplore(dfWorkerGtr1,'total_workers',10)"
   ]
  },
  {
   "cell_type": "code",
   "execution_count": 59,
   "metadata": {
    "collapsed": false
   },
   "outputs": [
    {
     "data": {
      "image/png": "[encoded data removed]",
      "text/plain": [
       "<matplotlib.figure.Figure at 0x15e113c8>"
      ]
     },
     "metadata": {},
     "output_type": "display_data"
    }
   ],
   "source": [
    "featureExplore(dfWorker1_20,'total_workers',20)"
   ]
  },
  {
   "cell_type": "code",
   "execution_count": 58,
   "metadata": {
    "collapsed": false
   },
   "outputs": [
    {
     "data": {
      "image/png": "[encoded data removed]",
      "text/plain": [
       "<matplotlib.figure.Figure at 0x15e6ae80>"
      ]
     },
     "metadata": {},
     "output_type": "display_data"
    }
   ],
   "source": [
    "featureExplore(dfWorker20_50,'total_workers',30)"
   ]
  },
  {
   "cell_type": "code",
   "execution_count": 60,
   "metadata": {
    "collapsed": false
   },
   "outputs": [
    {
     "data": {
      "image/png": "[encoded data removed]",
      "text/plain": [
       "<matplotlib.figure.Figure at 0x19238dd8>"
      ]
     },
     "metadata": {},
     "output_type": "display_data"
    }
   ],
   "source": [
    "#set up a new field that has 1 workers, 2 to 10 workers, more than 10 workers\n",
    "df.loc[df['total_workers'] == 1, 'workerCategory'] = 1\n",
    "df.loc[(df['total_workers'] > 1) & (df['total_workers'] <=10), 'workerCategory'] = 2\n",
    "df.loc[df['total_workers'] >10 , 'workerCategory'] = 3\n",
    "\n",
    "\n",
    "featureExplore(df,'workerCategory',3)"
   ]
  },
  {
   "cell_type": "markdown",
   "metadata": {},
   "source": [
    "There are no obvious patterns in the number of workers"
   ]
  },
  {
   "cell_type": "markdown",
   "metadata": {},
   "source": [
    "Location (group by region to simplify)"
   ]
  },
  {
   "cell_type": "code",
   "execution_count": 62,
   "metadata": {
    "collapsed": false
   },
   "outputs": [
    {
     "data": {
      "image/png": "[encoded data removed]",
      "text/plain": [
       "<matplotlib.figure.Figure at 0x17455b70>"
      ]
     },
     "metadata": {},
     "output_type": "display_data"
    }
   ],
   "source": [
    "#get all states using the employer state\n",
    "states = list(set(df['lca_case_employer_state'].dropna().tolist()))\n",
    "states.sort()\n",
    "\n",
    "#set up a blank dictionary\n",
    "stateMap = {}\n",
    "#maps the states to numbers\n",
    "for i,state in enumerate(states):\n",
    "    stateMap.update({state:i})\n",
    "\n",
    "#change state name to mapping number\n",
    "df['empState'] = df['lca_case_employer_state'].map(stateMap)\n",
    "\n",
    "#view charts\n",
    "featureExplore(df,'empState',len(states))\n"
   ]
  },
  {
   "cell_type": "markdown",
   "metadata": {},
   "source": [
    "There are no obvious pattern differences by employer state"
   ]
  },
  {
   "cell_type": "markdown",
   "metadata": {},
   "source": [
    "** Proposed wage rate for annual wages under $500,000 **"
   ]
  },
  {
   "cell_type": "code",
   "execution_count": 63,
   "metadata": {
    "collapsed": false
   },
   "outputs": [
    {
     "data": {
      "image/png": "[encoded data removed]",
      "text/plain": [
       "<matplotlib.figure.Figure at 0x16bfff60>"
      ]
     },
     "metadata": {},
     "output_type": "display_data"
    }
   ],
   "source": [
    "dfWages = df[(df['lca_case_wage_rate_from'] <=500000) & (df['lca_case_wage_rate_unit'] == 'Year')]\n",
    "featureExplore(dfWages,'lca_case_wage_rate_from',20)"
   ]
  },
  {
   "cell_type": "markdown",
   "metadata": {},
   "source": [
    "** Step 2 **\n",
    "** Narrow to the 3 features based on data exploration **\n",
    "\n",
    "Based on data exploration only 3 features are worth testing, but even these seem unlikely to produce statistically signficant results\n",
    "\n",
    "feature 1 - employment length  \n",
    "feature 2 - full time vs part time  \n",
    "feature 3 - proposed wage rate  "
   ]
  },
  {
   "cell_type": "markdown",
   "metadata": {},
   "source": [
    "** Step 3 **  \n",
    "Since we don't have enough information about \"withdrawn\" applications, \n",
    "remove these from the data set, include \"Certified\" and \"Denied\""
   ]
  },
  {
   "cell_type": "code",
   "execution_count": 65,
   "metadata": {
    "collapsed": false
   },
   "outputs": [],
   "source": [
    "#get only status 'DENIED','CERTIFIED' and only wages that are annual 00\n",
    "dfCertDen = dfWages[ (dfWages['status'] == 'DENIED') | (dfWages['status'] == 'CERTIFIED') ]"
   ]
  },
  {
   "cell_type": "code",
   "execution_count": 66,
   "metadata": {
    "collapsed": true
   },
   "outputs": [],
   "source": [
    "#set up a target field that has 1 for denied, 0 for certifiedand less then 500,0\n",
    "dfCertDen.loc[df['status'] == 'DENIED', 'statusTarget'] = 1\n",
    "dfCertDen.loc[df['status'] == 'CERTIFIED', 'statusTarget'] = 0"
   ]
  },
  {
   "cell_type": "markdown",
   "metadata": {},
   "source": [
    "** Step 4 ** \n",
    "Run a logistic regression and evaluate the results"
   ]
  },
  {
   "cell_type": "code",
   "execution_count": 67,
   "metadata": {
    "collapsed": true
   },
   "outputs": [],
   "source": [
    "# create dataframes with an intercept column \n",
    "y, X = dmatrices('statusTarget ~ empLength + lca_case_wage_rate_from + FT',dfCertDen, return_type=\"dataframe\")\n",
    "\n",
    "# flatten y into a 1-D array\n",
    "y = np.ravel(y)"
   ]
  },
  {
   "cell_type": "code",
   "execution_count": 68,
   "metadata": {
    "collapsed": false
   },
   "outputs": [
    {
     "name": "stdout",
     "output_type": "stream",
     "text": [
      "0.977375387969\n",
      "0.977375387969\n"
     ]
    }
   ],
   "source": [
    "# logistic regression model, and fit with X and y\n",
    "model = LogisticRegression()\n",
    "model = model.fit(X, y)\n",
    "\n",
    "# check the accuracy on the training set\n",
    "accuracy = model.score(X, y)\n",
    "print accuracy\n",
    "\n",
    "# what percentage were denied?\n",
    "y.mean()\n",
    "print 1 - y.mean()"
   ]
  },
  {
   "cell_type": "code",
   "execution_count": 69,
   "metadata": {
    "collapsed": false
   },
   "outputs": [
    {
     "data": {
      "text/html": [
       "<div>\n",
       "<table border=\"1\" class=\"dataframe\">\n",
       "  <thead>\n",
       "    <tr style=\"text-align: right;\">\n",
       "      <th></th>\n",
       "      <th>0</th>\n",
       "      <th>1</th>\n",
       "    </tr>\n",
       "  </thead>\n",
       "  <tbody>\n",
       "    <tr>\n",
       "      <th>0</th>\n",
       "      <td>Intercept</td>\n",
       "      <td>[-2.83985018561e-06]</td>\n",
       "    </tr>\n",
       "    <tr>\n",
       "      <th>1</th>\n",
       "      <td>empLength</td>\n",
       "      <td>[-0.00242341080637]</td>\n",
       "    </tr>\n",
       "    <tr>\n",
       "      <th>2</th>\n",
       "      <td>lca_case_wage_rate_from</td>\n",
       "      <td>[-1.71859696893e-05]</td>\n",
       "    </tr>\n",
       "    <tr>\n",
       "      <th>3</th>\n",
       "      <td>FT</td>\n",
       "      <td>[-2.87973111705e-06]</td>\n",
       "    </tr>\n",
       "  </tbody>\n",
       "</table>\n",
       "</div>"
      ],
      "text/plain": [
       "                         0                     1\n",
       "0                Intercept  [-2.83985018561e-06]\n",
       "1                empLength   [-0.00242341080637]\n",
       "2  lca_case_wage_rate_from  [-1.71859696893e-05]\n",
       "3                       FT  [-2.87973111705e-06]"
      ]
     },
     "execution_count": 69,
     "metadata": {},
     "output_type": "execute_result"
    }
   ],
   "source": [
    "# examine the coefficients\n",
    "pd.DataFrame(zip(X.columns, np.transpose(model.coef_)))"
   ]
  },
  {
   "cell_type": "markdown",
   "metadata": {},
   "source": [
    "The logistic regression accuracy is no better than the null rate, so these features do not provide any additional information or form a useful model for predicting whether an application will be denied.\n",
    "\n",
    "There may be other factors that were not considered, or it may just not be possible to predict the status based on this data set"
   ]
  },
  {
   "cell_type": "code",
   "execution_count": null,
   "metadata": {
    "collapsed": true
   },
   "outputs": [],
   "source": []
  }
 ],
 "metadata": {
  "anaconda-cloud": {},
  "kernelspec": {
   "display_name": "Python [Root]",
   "language": "python",
   "name": "Python [Root]"
  },
  "language_info": {
   "codemirror_mode": {
    "name": "ipython",
    "version": 2
   },
   "file_extension": ".py",
   "mimetype": "text/x-python",
   "name": "python",
   "nbconvert_exporter": "python",
   "pygments_lexer": "ipython2",
   "version": "2.7.12"
  }
 },
 "nbformat": 4,
 "nbformat_minor": 0
}
